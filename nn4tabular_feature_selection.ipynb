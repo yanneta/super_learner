{
 "cells": [
  {
   "cell_type": "markdown",
   "metadata": {},
   "source": [
    "# Neural networks for tabular data"
   ]
  },
  {
   "cell_type": "markdown",
   "metadata": {},
   "source": [
    "## Selecting datasets neural networks"
   ]
  },
  {
   "cell_type": "code",
   "execution_count": 1,
   "metadata": {},
   "outputs": [],
   "source": [
    "from sklearn.ensemble import RandomForestRegressor\n",
    "from sklearn.linear_model import Ridge, RidgeCV, Lasso, LassoCV, ElasticNetCV\n",
    "from sklearn.model_selection import train_test_split, RandomizedSearchCV, GridSearchCV\n",
    "\n",
    "from sklearn.preprocessing import StandardScaler\n",
    "from sklearn import metrics\n",
    "from tqdm.notebook import tqdm\n",
    "\n",
    "\n",
    "import matplotlib.pyplot as plt\n",
    "import seaborn as sb"
   ]
  },
  {
   "cell_type": "code",
   "execution_count": 2,
   "metadata": {},
   "outputs": [],
   "source": [
    "import xgboost as xgb\n",
    "from sklearn.metrics import r2_score"
   ]
  },
  {
   "cell_type": "code",
   "execution_count": 3,
   "metadata": {},
   "outputs": [],
   "source": [
    "%reload_ext autoreload\n",
    "%autoreload 2\n",
    "%matplotlib inline\n",
    "\n",
    "import pandas as pd\n",
    "import numpy as np\n",
    "import torch\n",
    "from pathlib import Path\n",
    "from torch.utils.data import Dataset, DataLoader\n",
    "import torch.optim as optim\n",
    "import torch.nn as nn\n",
    "import torch.nn.functional as F\n",
    "import random\n",
    "import math\n",
    "\n",
    "from pathlib import Path"
   ]
  },
  {
   "cell_type": "code",
   "execution_count": 4,
   "metadata": {},
   "outputs": [],
   "source": [
    "PATH = Path(\"/data2/yinterian/pmlb/\")"
   ]
  },
  {
   "cell_type": "code",
   "execution_count": 5,
   "metadata": {},
   "outputs": [],
   "source": [
    "from pmlb import fetch_data, regression_dataset_names"
   ]
  },
  {
   "cell_type": "code",
   "execution_count": 6,
   "metadata": {},
   "outputs": [],
   "source": [
    "list_dataset = {}\n",
    "\n",
    "for dataset in regression_dataset_names:\n",
    "    X, y = fetch_data(dataset, return_X_y=True, local_cache_dir='/data2/yinterian/pmlb/')\n",
    "    if X.shape[0] >= 5000:\n",
    "        list_dataset[dataset] = (X.shape[0],X.shape[1]) "
   ]
  },
  {
   "cell_type": "code",
   "execution_count": 7,
   "metadata": {},
   "outputs": [
    {
     "data": {
      "text/plain": [
       "{'1191_BNG_pbc': (1000000, 18),\n",
       " '1193_BNG_lowbwt': (31104, 9),\n",
       " '1196_BNG_pharynx': (1000000, 10),\n",
       " '1199_BNG_echoMonths': (17496, 9),\n",
       " '1201_BNG_breastTumor': (116640, 9),\n",
       " '1203_BNG_pwLinear': (177147, 10),\n",
       " '1595_poker': (1025010, 10),\n",
       " '197_cpu_act': (8192, 21),\n",
       " '201_pol': (15000, 48),\n",
       " '215_2dplanes': (40768, 10),\n",
       " '218_house_8L': (22784, 8),\n",
       " '225_puma8NH': (8192, 8),\n",
       " '227_cpu_small': (8192, 12),\n",
       " '294_satellite_image': (6435, 36),\n",
       " '344_mv': (40768, 10),\n",
       " '503_wind': (6574, 14),\n",
       " '537_houses': (20640, 8),\n",
       " '562_cpu_small': (8192, 12),\n",
       " '564_fried': (40768, 10),\n",
       " '573_cpu_act': (8192, 21),\n",
       " '574_house_16H': (22784, 16)}"
      ]
     },
     "execution_count": 7,
     "metadata": {},
     "output_type": "execute_result"
    }
   ],
   "source": [
    "list_dataset"
   ]
  },
  {
   "cell_type": "code",
   "execution_count": 275,
   "metadata": {},
   "outputs": [],
   "source": [
    "datasets = list(list_dataset.keys())"
   ]
  },
  {
   "cell_type": "markdown",
   "metadata": {},
   "source": [
    "Preliminary results Results <br>\n",
    "\n",
    "\"1191_BNG_pbc\", RF:0.433, GB:0.419, NN:0.433 (new nn)<br>\n",
    "'1193_BNG_lowbwt', RF:0.57, GB:0.6, NN:0.6 (baseline NN) <br> \n",
    "\"1196_BNG_pharynx\", RF:0.508, GB:0.506, NN: 0.5  (baseline NN)<br> \n",
    "\"1199_BNG_echoMonths\", RF:0.46, GB:0.44, NN: 0.45  (baseline NN) <br>\n",
    "\"1201_BNG_breastTumor\", RF:0.165, GB:0.15, NN: 0.167 (new nn) <br> \n",
    "\"1203_BNG_pwLinear\", RF: 0.529 , GB:0.614, NN:0.617 <br>\n",
    "\"1595_poker\", RF: ,GB:, NN: (baseline) all categorical <br>\n",
    "\"197_cpu_act\", RF:.984 GB: 0.984 NN: 0.986 <br>\n",
    "\"201_pol\", RF:0.988, GB:0.96, NN:0.962 <br>\n",
    "\"215_2dplanes\"RF:0.934, GB:0.943, NN: 0.945 <br>\n",
    "\"218_house_8L\" debug <br>\n",
    "\"225_puma8NH\" all cont <br>\n",
    "\"227_cpu_small\", RF:0.978, GB:0.978, NN: 0.974 <br>\n",
    "\"294_satellite_image\", RF:0.9, GB:0.9, NN: 0.9 <br>\n",
    "\"344_mv\" all 100% <br>\n",
    "\"503_wind\", .77, .78, .78<br>"
   ]
  },
  {
   "cell_type": "code",
   "execution_count": 276,
   "metadata": {},
   "outputs": [
    {
     "name": "stdout",
     "output_type": "stream",
     "text": [
      "1595_poker\n"
     ]
    }
   ],
   "source": [
    "dataset = datasets[6]\n",
    "print(dataset)\n",
    "train_X, valid_X, test_X, train_y, valid_y, test_y = split_dataset(dataset)"
   ]
  },
  {
   "cell_type": "code",
   "execution_count": 277,
   "metadata": {},
   "outputs": [
    {
     "data": {
      "text/plain": [
       "([0, 1, 2, 3, 4, 5, 6, 7, 8, 9], [])"
      ]
     },
     "execution_count": 277,
     "metadata": {},
     "output_type": "execute_result"
    }
   ],
   "source": [
    "cat_ind, cont_ind  = split_num_cat_columns(train_X)\n",
    "cat_ind, cont_ind "
   ]
  },
  {
   "cell_type": "markdown",
   "metadata": {},
   "source": [
    "## Gradient boosting and RF scores"
   ]
  },
  {
   "cell_type": "code",
   "execution_count": 278,
   "metadata": {},
   "outputs": [],
   "source": [
    "def split_dataset(dataset, seed=1):\n",
    "    X, y = fetch_data(dataset, return_X_y=True, local_cache_dir='/data2/yinterian/pmlb/')\n",
    "    train_X, test_X, train_y, test_y = train_test_split(X, y, test_size=0.3, random_state=seed)\n",
    "    valid_X, test_X, valid_y, test_y = train_test_split(test_X, test_y, test_size=0.5, random_state=seed)\n",
    "    \n",
    "    return train_X, valid_X, test_X, train_y, valid_y, test_y"
   ]
  },
  {
   "cell_type": "code",
   "execution_count": 279,
   "metadata": {},
   "outputs": [],
   "source": [
    "def RF_scores(train_X, valid_X, train_y, valid_y):\n",
    "    \n",
    "    D = train_X.shape[1]\n",
    "    max_features = np.unique([int(x*D + 1) for x in np.linspace(0.1, 0.99, num = 5)])\n",
    "    grid = {'max_features': max_features}\n",
    "    rf = RandomForestRegressor(n_estimators=1000, max_features='sqrt', n_jobs = 10)\n",
    "    rf_cv = GridSearchCV(estimator = rf, param_grid = grid, cv = 3, verbose=2,\n",
    "                         n_jobs = 5)\n",
    "    \n",
    "    rf_cv.fit(train_X, train_y)\n",
    "    return rf_cv.score(valid_X, valid_y)"
   ]
  },
  {
   "cell_type": "code",
   "execution_count": 280,
   "metadata": {},
   "outputs": [
    {
     "name": "stdout",
     "output_type": "stream",
     "text": [
      "Fitting 3 folds for each of 5 candidates, totalling 15 fits\n"
     ]
    },
    {
     "name": "stderr",
     "output_type": "stream",
     "text": [
      "[Parallel(n_jobs=5)]: Using backend LokyBackend with 5 concurrent workers.\n",
      "/home/yinterian/anaconda3/lib/python3.7/site-packages/joblib/externals/loky/process_executor.py:706: UserWarning: A worker stopped while some jobs were given to the executor. This can be caused by a too short worker timeout or by a memory leak.\n",
      "  \"timeout or by a memory leak.\", UserWarning\n",
      "[Parallel(n_jobs=5)]: Done  15 out of  15 | elapsed: 12.5min finished\n"
     ]
    },
    {
     "data": {
      "text/plain": [
       "0.5990712990869256"
      ]
     },
     "execution_count": 280,
     "metadata": {},
     "output_type": "execute_result"
    }
   ],
   "source": [
    "RF_scores(train_X, valid_X, train_y, valid_y)"
   ]
  },
  {
   "cell_type": "code",
   "execution_count": 281,
   "metadata": {},
   "outputs": [],
   "source": [
    "def GB_scores(train_X, valid_X, train_y, valid_y):\n",
    "    xgb_pars = {'min_child_weight': 50, 'eta': 0.01, 'colsample_bytree': 0.5, 'max_depth': 5,\n",
    "            'subsample': 0.8, 'lambda': 1., 'nthread': -1, 'booster' : 'gbtree', 'silent': 1,\n",
    "            'eval_metric': 'rmse', 'objective': 'reg:linear'}\n",
    "    dtrain = xgb.DMatrix(train_X, label=train_y)\n",
    "    dvalid = xgb.DMatrix(valid_X, label=valid_y)\n",
    "    watchlist = [(dtrain, 'train'), (dvalid, 'valid')]\n",
    "    gbm = xgb.train(xgb_pars, dtrain, 1000, watchlist, early_stopping_rounds=50,\n",
    "                maximize=False, verbose_eval=200)\n",
    "    y_pred = gbm.predict(dvalid)\n",
    "    return r2_score(valid_y, y_pred), gbm"
   ]
  },
  {
   "cell_type": "code",
   "execution_count": 282,
   "metadata": {},
   "outputs": [
    {
     "name": "stdout",
     "output_type": "stream",
     "text": [
      "[0]\ttrain-rmse:0.784316\tvalid-rmse:0.775518\n",
      "Multiple eval metrics have been passed: 'valid-rmse' will be used for early stopping.\n",
      "\n",
      "Will train until valid-rmse hasn't improved in 50 rounds.\n",
      "[200]\ttrain-rmse:0.749144\tvalid-rmse:0.741102\n",
      "[400]\ttrain-rmse:0.727816\tvalid-rmse:0.719965\n",
      "[600]\ttrain-rmse:0.711204\tvalid-rmse:0.703554\n",
      "[800]\ttrain-rmse:0.696025\tvalid-rmse:0.688501\n",
      "[999]\ttrain-rmse:0.682363\tvalid-rmse:0.675066\n"
     ]
    },
    {
     "data": {
      "text/plain": [
       "0.22683399885781053"
      ]
     },
     "execution_count": 282,
     "metadata": {},
     "output_type": "execute_result"
    }
   ],
   "source": [
    "score, gbm = GB_scores(train_X, valid_X, train_y, valid_y)\n",
    "score"
   ]
  },
  {
   "cell_type": "code",
   "execution_count": 274,
   "metadata": {},
   "outputs": [
    {
     "data": {
      "text/plain": [
       "<matplotlib.axes._subplots.AxesSubplot at 0x7f266c069b50>"
      ]
     },
     "execution_count": 274,
     "metadata": {},
     "output_type": "execute_result"
    },
    {
     "data": {
      "image/png": "[encoded data removed]",
      "text/plain": [
       "<Figure size 432x288 with 1 Axes>"
      ]
     },
     "metadata": {
      "needs_background": "light"
     },
     "output_type": "display_data"
    }
   ],
   "source": [
    "xgb.plot_importance(gbm)"
   ]
  },
  {
   "cell_type": "code",
   "execution_count": 287,
   "metadata": {},
   "outputs": [],
   "source": [
    "#xgb.to_graphviz(gbm, num_trees=26)"
   ]
  },
  {
   "cell_type": "markdown",
   "metadata": {},
   "source": [
    "## Encoding features"
   ]
  },
  {
   "cell_type": "code",
   "execution_count": null,
   "metadata": {},
   "outputs": [],
   "source": [
    "def encode_cat_variables(x, help_dict = None):\n",
    "    uniqs = np.unique(x)\n",
    "    if help_dict is None: help_dict = {v:k+1 for k, v in enumerate(uniqs)}\n",
    "    levels = len(help_dict.keys()) + 1\n",
    "    x_t = np.array([help_dict.get(x_i, 0) for x_i in x])\n",
    "    return x_t, help_dict, levels"
   ]
  },
  {
   "cell_type": "code",
   "execution_count": 246,
   "metadata": {},
   "outputs": [],
   "source": [
    "def split_num_cat_columns(X, cutoff=50):\n",
    "    cat_ind = []\n",
    "    cont_ind = []\n",
    "    for i in range(X.shape[1]):\n",
    "        uniqs_len = len(np.unique(X[:,i]))\n",
    "        fraction = uniqs_len/X.shape[0]\n",
    "        if uniqs_len <= 2 or fraction > 0.05 or uniqs_len > cutoff:\n",
    "            cont_ind.append(i)\n",
    "        else:\n",
    "            cat_ind.append(i)\n",
    "    return cat_ind, cont_ind "
   ]
  },
  {
   "cell_type": "code",
   "execution_count": 258,
   "metadata": {},
   "outputs": [],
   "source": [
    "def transform_dataset(train_X, valid_X, test_X, cutoff=50):\n",
    "    \n",
    "    cat_ind, cont_ind = split_num_cat_columns(train_X, cutoff)\n",
    "    \n",
    "    train_X_cat = train_X[:, cat_ind]\n",
    "    train_X_cont = train_X[:, cont_ind]\n",
    "    \n",
    "    valid_X_cat = valid_X[:, cat_ind]\n",
    "    valid_X_cont = valid_X[:, cont_ind]\n",
    "    \n",
    "    test_X_cat = test_X[:, cat_ind]\n",
    "    test_X_cont = test_X[:, cont_ind]\n",
    "    \n",
    "    if len(cont_ind) > 0:\n",
    "        scaler = StandardScaler()\n",
    "        train_X_cont = scaler.fit_transform(train_X_cont)\n",
    "        valid_X_cont = scaler.transform(valid_X_cont)\n",
    "        test_X_cont = scaler.transform(test_X_cont)\n",
    "    \n",
    "    level_arr = [0]*train_X_cat.shape[1]\n",
    "    for i in range(train_X_cat.shape[1]):\n",
    "        x, help_arr, levels = encode_cat_variables(train_X_cat[:,i])\n",
    "        train_X_cat[:,i] = x\n",
    "        level_arr[i] = levels\n",
    "        x, _, _ = encode_cat_variables(valid_X_cat[:,i], help_arr)\n",
    "        valid_X_cat[:,i] = x\n",
    "        x, _, _ = encode_cat_variables(test_X_cat[:,i], help_arr)\n",
    "        test_X_cat[:,i] = x\n",
    "    return (train_X_cat, train_X_cont, valid_X_cat, valid_X_cont, test_X_cat, test_X_cont), level_arr"
   ]
  },
  {
   "cell_type": "markdown",
   "metadata": {},
   "source": [
    "## Dataset"
   ]
  },
  {
   "cell_type": "code",
   "execution_count": 177,
   "metadata": {},
   "outputs": [],
   "source": [
    "class TabularDataSet(Dataset):\n",
    "    def __init__(self, X_cat, X_cont, Y):\n",
    "        self.X_cat = X_cat\n",
    "        self.X_cont = X_cont\n",
    "        self.Y = Y\n",
    "\n",
    "    def __getitem__(self, index):\n",
    "        return self.X_cat[index], self.X_cont[index], self.Y[index]\n",
    "\n",
    "    def __len__(self):\n",
    "        return len(self.Y)"
   ]
  },
  {
   "cell_type": "markdown",
   "metadata": {},
   "source": [
    "## Training functions"
   ]
  },
  {
   "cell_type": "code",
   "execution_count": 68,
   "metadata": {},
   "outputs": [],
   "source": [
    "def save_model(m, p): torch.save(m.state_dict(), p)\n",
    "    \n",
    "def load_model(m, p): m.load_state_dict(torch.load(p))"
   ]
  },
  {
   "cell_type": "code",
   "execution_count": 69,
   "metadata": {},
   "outputs": [],
   "source": [
    "def cosine_segment(start_lr, end_lr, iterations):\n",
    "    i = np.arange(iterations)\n",
    "    c_i = 1 + np.cos(i*np.pi/iterations)\n",
    "    return end_lr + (start_lr - end_lr)/2 *c_i\n",
    "\n",
    "def get_cosine_triangular_lr(max_lr, iterations, div_start=5, div_end=5):\n",
    "    min_start, min_end = max_lr/div_start, max_lr/div_end\n",
    "    iter1 = int(0.3*iterations)\n",
    "    iter2 = iterations - iter1\n",
    "    segs = [cosine_segment(min_start, max_lr, iter1), cosine_segment(max_lr, min_end, iter2)]\n",
    "    return np.concatenate(segs)"
   ]
  },
  {
   "cell_type": "code",
   "execution_count": 70,
   "metadata": {},
   "outputs": [
    {
     "data": {
      "image/png": "[encoded data removed]",
      "text/plain": [
       "<Figure size 432x288 with 1 Axes>"
      ]
     },
     "metadata": {
      "needs_background": "light"
     },
     "output_type": "display_data"
    }
   ],
   "source": [
    "N = 100000\n",
    "lr = get_cosine_triangular_lr(0.01, N)\n",
    "plt.plot(list(range(N)), lr)\n",
    "plt.show()"
   ]
  },
  {
   "cell_type": "code",
   "execution_count": 71,
   "metadata": {},
   "outputs": [],
   "source": [
    "def update_optimizer(optimizer, lr):\n",
    "    for i, param_group in enumerate(optimizer.param_groups):\n",
    "        param_group[\"lr\"] = lr"
   ]
  },
  {
   "cell_type": "code",
   "execution_count": 72,
   "metadata": {},
   "outputs": [],
   "source": [
    "def val_metrics(model, valid_dl):\n",
    "    model.eval()\n",
    "    total = 0\n",
    "    sum_loss = 0\n",
    "    y_hat = []\n",
    "    ys = []\n",
    "    for x1, x2, y in valid_dl:\n",
    "        batch = y.shape[0]\n",
    "        y = y.unsqueeze(1).float()\n",
    "        out = model(x1.long().cuda(), x2.float().cuda())\n",
    "        loss = F.mse_loss(out, y.cuda())\n",
    "        sum_loss += batch*(loss.item())\n",
    "        total += batch\n",
    "        y_hat.append(out.detach().cpu().numpy())\n",
    "        ys.append(y)\n",
    "    \n",
    "    y_hat = np.vstack(y_hat)\n",
    "    ys = np.vstack(ys)\n",
    "    r2 = metrics.r2_score(ys, y_hat)\n",
    "    return sum_loss/total, r2"
   ]
  },
  {
   "cell_type": "code",
   "execution_count": 73,
   "metadata": {},
   "outputs": [],
   "source": [
    "def train_model(model, train_dl, valid_dl, optimizer, max_lr=0.05, epochs=100):\n",
    "    iterations = epochs*len(train_dl)\n",
    "    pbar = tqdm(total=iterations)\n",
    "    idx = 0\n",
    "    best_val_r2 = 0\n",
    "    lrs = get_cosine_triangular_lr(max_lr, iterations)\n",
    "    for t in range(epochs):\n",
    "        model.train()\n",
    "        total_loss = 0\n",
    "        total = 0\n",
    "        for x1, x2, y in train_dl:\n",
    "            update_optimizer(optimizer, lrs[idx])\n",
    "            x1 = x1.cuda().long()\n",
    "            x2 = x2.cuda().float()\n",
    "            y = y.unsqueeze(1).cuda().float()\n",
    "            y_hat = model(x1, x2)\n",
    "            loss = F.mse_loss(y_hat, y)\n",
    "            optimizer.zero_grad()\n",
    "            loss.backward()\n",
    "            optimizer.step()\n",
    "            total_loss += loss.item()*y.size(0)\n",
    "            total += y.size(0)\n",
    "            idx +=1\n",
    "            pbar.update()\n",
    "        val_loss, val_r2 = val_metrics(model, valid_dl)\n",
    "        print(\"\\tTrain loss: {:.3f} \\t Valid loss: {:.3f} \\t Valid R2:  {:.3f}\".format(\n",
    "            total_loss/total, val_loss, val_r2))  \n",
    "        if best_val_r2 < val_r2:\n",
    "            best_val_r2 = val_r2\n",
    "            path = \"{0}/models/model_{1}_acc_{2:.0f}.pth\".format(PATH, dataset, 100*val_r2) \n",
    "            save_model(model, path)\n",
    "            print(path)\n",
    "            \n",
    "    print(\"Best valid r2: {:.3f}\".format(best_val_r2))\n",
    "    return best_val_r2"
   ]
  },
  {
   "cell_type": "markdown",
   "metadata": {},
   "source": [
    "## Baseline model "
   ]
  },
  {
   "cell_type": "code",
   "execution_count": 153,
   "metadata": {},
   "outputs": [],
   "source": [
    "class TabularNet(nn.Module):\n",
    "    def __init__(self, num_cont, num_cat, level_arr, hidden_dim=500):\n",
    "        super(TabularNet, self).__init__()\n",
    "        in_dim = num_cont + 2*num_cat\n",
    "        in_dim2 = hidden_dim + in_dim\n",
    "        self.embs = nn.ModuleList([nn.Embedding(level_arr[i], 2) for i in range(len(level_arr))])\n",
    "        self.bn1 = nn.BatchNorm1d(hidden_dim)\n",
    "        self.bn2 = nn.BatchNorm1d(hidden_dim)\n",
    "        self.bn3 = nn.BatchNorm1d(hidden_dim)\n",
    "        self.bn4 = nn.BatchNorm1d(hidden_dim)\n",
    "        self.linear1 = nn.Linear(in_dim, hidden_dim)\n",
    "        self.linear2 = nn.Linear(in_dim2, hidden_dim)\n",
    "        self.linear3 = nn.Linear(in_dim2, hidden_dim)\n",
    "        self.linear4 = nn.Linear(in_dim2, hidden_dim)\n",
    "        self.linear5 = nn.Linear(in_dim2, 1)\n",
    "        self.dropout = nn.Dropout(0.2)\n",
    "                                  \n",
    "    def forward(self, x_cat, x_cont):\n",
    "        x_cat = [self.embs[i](x_cat[:,i]) for i in range(x_cat.size(1))]\n",
    "        x_cat = torch.cat(x_cat, dim=1)\n",
    "        x_cat = self.dropout(x_cat)\n",
    "        x = torch.cat([x_cont, x_cat], dim=1)\n",
    "        x1 = self.bn1(F.relu(self.linear1(x)))\n",
    "        x1 = self.dropout(x1)\n",
    "        x1 = torch.cat([x, x1], dim=1)\n",
    "        x1 = self.bn2(F.relu(self.linear2(x1)))\n",
    "        x1 = self.dropout(x1)\n",
    "        x1 = torch.cat([x, x1], dim=1)\n",
    "        x1 = self.bn3(F.relu(self.linear3(x1)))\n",
    "        x1 = torch.cat([x, x1], dim=1)\n",
    "        x1 = self.bn4(F.relu(self.linear4(x1)))\n",
    "        x1 = torch.cat([x, x1], dim=1)\n",
    "        return self.linear5(x1)"
   ]
  },
  {
   "cell_type": "code",
   "execution_count": 283,
   "metadata": {},
   "outputs": [
    {
     "name": "stdout",
     "output_type": "stream",
     "text": [
      "1595_poker\n"
     ]
    },
    {
     "data": {
      "text/plain": [
       "([0, 2, 4, 6, 8], [1, 3, 5, 7, 9])"
      ]
     },
     "execution_count": 283,
     "metadata": {},
     "output_type": "execute_result"
    }
   ],
   "source": [
    "dataset = datasets[6]\n",
    "print(dataset)\n",
    "train_X, valid_X, test_X, train_y, valid_y, test_y = split_dataset(dataset)\n",
    "cat_ind, cont_ind  = split_num_cat_columns(train_X, cutoff=12)\n",
    "cat_ind, cont_ind "
   ]
  },
  {
   "cell_type": "code",
   "execution_count": 284,
   "metadata": {},
   "outputs": [],
   "source": [
    "(train_X_cat, train_X_cont, valid_X_cat, valid_X_cont, test_X_cat, test_X_cont), \\\n",
    "level_arr = transform_dataset(train_X, valid_X, test_X, cutoff=12)"
   ]
  },
  {
   "cell_type": "code",
   "execution_count": 285,
   "metadata": {},
   "outputs": [],
   "source": [
    "train_ds = TabularDataSet(train_X_cat, train_X_cont, train_y)\n",
    "valid_ds = TabularDataSet(valid_X_cat, valid_X_cont, valid_y)\n",
    "test_ds = TabularDataSet(test_X_cat, test_X_cont, test_y)"
   ]
  },
  {
   "cell_type": "code",
   "execution_count": 286,
   "metadata": {},
   "outputs": [
    {
     "data": {
      "text/plain": [
       "[5, 5, 5, 5, 5]"
      ]
     },
     "execution_count": 286,
     "metadata": {},
     "output_type": "execute_result"
    }
   ],
   "source": [
    "level_arr"
   ]
  },
  {
   "cell_type": "code",
   "execution_count": 287,
   "metadata": {},
   "outputs": [],
   "source": [
    "batch_size = 100000\n",
    "\n",
    "num_cont = len(cont_ind)\n",
    "num_cat = len(cat_ind)\n",
    "\n",
    "train_dl = DataLoader(train_ds, batch_size=batch_size, shuffle=True)\n",
    "valid_dl = DataLoader(valid_ds, batch_size=batch_size)"
   ]
  },
  {
   "cell_type": "code",
   "execution_count": 288,
   "metadata": {},
   "outputs": [],
   "source": [
    "model = TabularNet(num_cont, num_cat, level_arr, hidden_dim=200).cuda()"
   ]
  },
  {
   "cell_type": "code",
   "execution_count": 289,
   "metadata": {},
   "outputs": [
    {
     "data": {
      "application/vnd.jupyter.widget-view+json": {
       "model_id": "2b8108fc75d24d33abcc6b037682daa0",
       "version_major": 2,
       "version_minor": 0
      },
      "text/plain": [
       "HBox(children=(FloatProgress(value=0.0, max=800.0), HTML(value='')))"
      ]
     },
     "metadata": {},
     "output_type": "display_data"
    },
    {
     "name": "stdout",
     "output_type": "stream",
     "text": [
      "\tTrain loss: 2.656 \t Valid loss: 0.899 \t Valid R2:  -0.525\n",
      "\tTrain loss: 0.746 \t Valid loss: 0.655 \t Valid R2:  -0.112\n",
      "\tTrain loss: 0.638 \t Valid loss: 0.638 \t Valid R2:  -0.082\n",
      "\tTrain loss: 0.601 \t Valid loss: 0.587 \t Valid R2:  0.004\n",
      "/data2/yinterian/pmlb/models/model_1595_poker_acc_0.pth\n",
      "\tTrain loss: 0.583 \t Valid loss: 0.558 \t Valid R2:  0.052\n",
      "/data2/yinterian/pmlb/models/model_1595_poker_acc_5.pth\n",
      "\tTrain loss: 0.573 \t Valid loss: 0.553 \t Valid R2:  0.062\n",
      "/data2/yinterian/pmlb/models/model_1595_poker_acc_6.pth\n",
      "\tTrain loss: 0.569 \t Valid loss: 0.550 \t Valid R2:  0.068\n",
      "/data2/yinterian/pmlb/models/model_1595_poker_acc_7.pth\n",
      "\tTrain loss: 0.565 \t Valid loss: 0.547 \t Valid R2:  0.073\n",
      "/data2/yinterian/pmlb/models/model_1595_poker_acc_7.pth\n",
      "\tTrain loss: 0.563 \t Valid loss: 0.544 \t Valid R2:  0.076\n",
      "/data2/yinterian/pmlb/models/model_1595_poker_acc_8.pth\n",
      "\tTrain loss: 0.560 \t Valid loss: 0.541 \t Valid R2:  0.082\n",
      "/data2/yinterian/pmlb/models/model_1595_poker_acc_8.pth\n",
      "\tTrain loss: 0.557 \t Valid loss: 0.538 \t Valid R2:  0.088\n",
      "/data2/yinterian/pmlb/models/model_1595_poker_acc_9.pth\n",
      "\tTrain loss: 0.553 \t Valid loss: 0.534 \t Valid R2:  0.094\n",
      "/data2/yinterian/pmlb/models/model_1595_poker_acc_9.pth\n",
      "\tTrain loss: 0.547 \t Valid loss: 0.527 \t Valid R2:  0.106\n",
      "/data2/yinterian/pmlb/models/model_1595_poker_acc_11.pth\n",
      "\tTrain loss: 0.539 \t Valid loss: 0.518 \t Valid R2:  0.121\n",
      "/data2/yinterian/pmlb/models/model_1595_poker_acc_12.pth\n",
      "\tTrain loss: 0.531 \t Valid loss: 0.513 \t Valid R2:  0.129\n",
      "/data2/yinterian/pmlb/models/model_1595_poker_acc_13.pth\n",
      "\tTrain loss: 0.525 \t Valid loss: 0.503 \t Valid R2:  0.147\n",
      "/data2/yinterian/pmlb/models/model_1595_poker_acc_15.pth\n",
      "\tTrain loss: 0.521 \t Valid loss: 0.499 \t Valid R2:  0.153\n",
      "/data2/yinterian/pmlb/models/model_1595_poker_acc_15.pth\n",
      "\tTrain loss: 0.517 \t Valid loss: 0.493 \t Valid R2:  0.164\n",
      "/data2/yinterian/pmlb/models/model_1595_poker_acc_16.pth\n",
      "\tTrain loss: 0.514 \t Valid loss: 0.493 \t Valid R2:  0.164\n",
      "/data2/yinterian/pmlb/models/model_1595_poker_acc_16.pth\n",
      "\tTrain loss: 0.511 \t Valid loss: 0.491 \t Valid R2:  0.166\n",
      "/data2/yinterian/pmlb/models/model_1595_poker_acc_17.pth\n",
      "\tTrain loss: 0.507 \t Valid loss: 0.487 \t Valid R2:  0.173\n",
      "/data2/yinterian/pmlb/models/model_1595_poker_acc_17.pth\n",
      "\tTrain loss: 0.502 \t Valid loss: 0.479 \t Valid R2:  0.187\n",
      "/data2/yinterian/pmlb/models/model_1595_poker_acc_19.pth\n",
      "\tTrain loss: 0.499 \t Valid loss: 0.475 \t Valid R2:  0.193\n",
      "/data2/yinterian/pmlb/models/model_1595_poker_acc_19.pth\n",
      "\tTrain loss: 0.496 \t Valid loss: 0.503 \t Valid R2:  0.146\n",
      "\tTrain loss: 0.507 \t Valid loss: 0.498 \t Valid R2:  0.156\n",
      "\tTrain loss: 0.485 \t Valid loss: 0.478 \t Valid R2:  0.188\n",
      "\tTrain loss: 0.488 \t Valid loss: 0.702 \t Valid R2:  -0.192\n",
      "\tTrain loss: 0.546 \t Valid loss: 0.484 \t Valid R2:  0.180\n",
      "\tTrain loss: 0.494 \t Valid loss: 0.493 \t Valid R2:  0.164\n",
      "\tTrain loss: 0.473 \t Valid loss: 0.460 \t Valid R2:  0.220\n",
      "/data2/yinterian/pmlb/models/model_1595_poker_acc_22.pth\n",
      "\tTrain loss: 0.452 \t Valid loss: 0.442 \t Valid R2:  0.250\n",
      "/data2/yinterian/pmlb/models/model_1595_poker_acc_25.pth\n",
      "\tTrain loss: 0.458 \t Valid loss: 0.466 \t Valid R2:  0.210\n",
      "\tTrain loss: 0.433 \t Valid loss: 0.420 \t Valid R2:  0.287\n",
      "/data2/yinterian/pmlb/models/model_1595_poker_acc_29.pth\n",
      "\tTrain loss: 0.405 \t Valid loss: 0.377 \t Valid R2:  0.360\n",
      "/data2/yinterian/pmlb/models/model_1595_poker_acc_36.pth\n",
      "\tTrain loss: 0.370 \t Valid loss: 0.353 \t Valid R2:  0.401\n",
      "/data2/yinterian/pmlb/models/model_1595_poker_acc_40.pth\n",
      "\tTrain loss: 0.402 \t Valid loss: 0.393 \t Valid R2:  0.333\n",
      "\tTrain loss: 0.362 \t Valid loss: 0.331 \t Valid R2:  0.438\n",
      "/data2/yinterian/pmlb/models/model_1595_poker_acc_44.pth\n",
      "\tTrain loss: 0.333 \t Valid loss: 0.313 \t Valid R2:  0.470\n",
      "/data2/yinterian/pmlb/models/model_1595_poker_acc_47.pth\n",
      "\tTrain loss: 0.317 \t Valid loss: 0.281 \t Valid R2:  0.523\n",
      "/data2/yinterian/pmlb/models/model_1595_poker_acc_52.pth\n",
      "\tTrain loss: 0.307 \t Valid loss: 0.258 \t Valid R2:  0.563\n",
      "/data2/yinterian/pmlb/models/model_1595_poker_acc_56.pth\n",
      "\tTrain loss: 0.316 \t Valid loss: 0.294 \t Valid R2:  0.502\n",
      "\tTrain loss: 0.285 \t Valid loss: 0.265 \t Valid R2:  0.550\n",
      "\tTrain loss: 0.262 \t Valid loss: 0.226 \t Valid R2:  0.616\n",
      "/data2/yinterian/pmlb/models/model_1595_poker_acc_62.pth\n",
      "\tTrain loss: 0.277 \t Valid loss: 0.275 \t Valid R2:  0.534\n",
      "\tTrain loss: 0.273 \t Valid loss: 0.354 \t Valid R2:  0.400\n",
      "\tTrain loss: 0.228 \t Valid loss: 0.170 \t Valid R2:  0.712\n",
      "/data2/yinterian/pmlb/models/model_1595_poker_acc_71.pth\n",
      "\tTrain loss: 0.203 \t Valid loss: 0.164 \t Valid R2:  0.722\n",
      "/data2/yinterian/pmlb/models/model_1595_poker_acc_72.pth\n",
      "\tTrain loss: 0.190 \t Valid loss: 0.154 \t Valid R2:  0.739\n",
      "/data2/yinterian/pmlb/models/model_1595_poker_acc_74.pth\n",
      "\tTrain loss: 0.186 \t Valid loss: 0.139 \t Valid R2:  0.764\n",
      "/data2/yinterian/pmlb/models/model_1595_poker_acc_76.pth\n",
      "\tTrain loss: 0.169 \t Valid loss: 0.145 \t Valid R2:  0.754\n",
      "\tTrain loss: 0.159 \t Valid loss: 0.125 \t Valid R2:  0.788\n",
      "/data2/yinterian/pmlb/models/model_1595_poker_acc_79.pth\n",
      "\tTrain loss: 0.152 \t Valid loss: 0.125 \t Valid R2:  0.789\n",
      "/data2/yinterian/pmlb/models/model_1595_poker_acc_79.pth\n",
      "\tTrain loss: 0.146 \t Valid loss: 0.112 \t Valid R2:  0.809\n",
      "/data2/yinterian/pmlb/models/model_1595_poker_acc_81.pth\n",
      "\tTrain loss: 0.143 \t Valid loss: 0.115 \t Valid R2:  0.805\n",
      "\tTrain loss: 0.139 \t Valid loss: 0.109 \t Valid R2:  0.816\n",
      "/data2/yinterian/pmlb/models/model_1595_poker_acc_82.pth\n",
      "\tTrain loss: 0.133 \t Valid loss: 0.095 \t Valid R2:  0.838\n",
      "/data2/yinterian/pmlb/models/model_1595_poker_acc_84.pth\n",
      "\tTrain loss: 0.130 \t Valid loss: 0.098 \t Valid R2:  0.834\n",
      "\tTrain loss: 0.126 \t Valid loss: 0.094 \t Valid R2:  0.841\n",
      "/data2/yinterian/pmlb/models/model_1595_poker_acc_84.pth\n",
      "\tTrain loss: 0.119 \t Valid loss: 0.094 \t Valid R2:  0.841\n",
      "\tTrain loss: 0.110 \t Valid loss: 0.089 \t Valid R2:  0.850\n",
      "/data2/yinterian/pmlb/models/model_1595_poker_acc_85.pth\n",
      "\tTrain loss: 0.107 \t Valid loss: 0.094 \t Valid R2:  0.841\n",
      "\tTrain loss: 0.104 \t Valid loss: 0.072 \t Valid R2:  0.877\n",
      "/data2/yinterian/pmlb/models/model_1595_poker_acc_88.pth\n",
      "\tTrain loss: 0.098 \t Valid loss: 0.079 \t Valid R2:  0.865\n",
      "\tTrain loss: 0.094 \t Valid loss: 0.068 \t Valid R2:  0.884\n",
      "/data2/yinterian/pmlb/models/model_1595_poker_acc_88.pth\n",
      "\tTrain loss: 0.089 \t Valid loss: 0.066 \t Valid R2:  0.888\n",
      "/data2/yinterian/pmlb/models/model_1595_poker_acc_89.pth\n",
      "\tTrain loss: 0.087 \t Valid loss: 0.064 \t Valid R2:  0.891\n",
      "/data2/yinterian/pmlb/models/model_1595_poker_acc_89.pth\n",
      "\tTrain loss: 0.083 \t Valid loss: 0.061 \t Valid R2:  0.896\n",
      "/data2/yinterian/pmlb/models/model_1595_poker_acc_90.pth\n",
      "\tTrain loss: 0.081 \t Valid loss: 0.061 \t Valid R2:  0.897\n",
      "/data2/yinterian/pmlb/models/model_1595_poker_acc_90.pth\n",
      "\tTrain loss: 0.081 \t Valid loss: 0.059 \t Valid R2:  0.900\n",
      "/data2/yinterian/pmlb/models/model_1595_poker_acc_90.pth\n",
      "\tTrain loss: 0.082 \t Valid loss: 0.058 \t Valid R2:  0.902\n",
      "/data2/yinterian/pmlb/models/model_1595_poker_acc_90.pth\n",
      "\tTrain loss: 0.080 \t Valid loss: 0.057 \t Valid R2:  0.904\n",
      "/data2/yinterian/pmlb/models/model_1595_poker_acc_90.pth\n",
      "\tTrain loss: 0.076 \t Valid loss: 0.056 \t Valid R2:  0.905\n",
      "/data2/yinterian/pmlb/models/model_1595_poker_acc_91.pth\n",
      "\tTrain loss: 0.075 \t Valid loss: 0.057 \t Valid R2:  0.904\n",
      "\tTrain loss: 0.074 \t Valid loss: 0.055 \t Valid R2:  0.907\n",
      "/data2/yinterian/pmlb/models/model_1595_poker_acc_91.pth\n",
      "\tTrain loss: 0.073 \t Valid loss: 0.055 \t Valid R2:  0.907\n",
      "/data2/yinterian/pmlb/models/model_1595_poker_acc_91.pth\n",
      "\tTrain loss: 0.074 \t Valid loss: 0.055 \t Valid R2:  0.907\n",
      "\tTrain loss: 0.071 \t Valid loss: 0.054 \t Valid R2:  0.908\n",
      "/data2/yinterian/pmlb/models/model_1595_poker_acc_91.pth\n",
      "\tTrain loss: 0.070 \t Valid loss: 0.054 \t Valid R2:  0.909\n",
      "/data2/yinterian/pmlb/models/model_1595_poker_acc_91.pth\n",
      "\tTrain loss: 0.069 \t Valid loss: 0.053 \t Valid R2:  0.909\n",
      "/data2/yinterian/pmlb/models/model_1595_poker_acc_91.pth\n",
      "\tTrain loss: 0.070 \t Valid loss: 0.053 \t Valid R2:  0.910\n",
      "/data2/yinterian/pmlb/models/model_1595_poker_acc_91.pth\n",
      "\tTrain loss: 0.068 \t Valid loss: 0.053 \t Valid R2:  0.910\n",
      "/data2/yinterian/pmlb/models/model_1595_poker_acc_91.pth\n",
      "\tTrain loss: 0.068 \t Valid loss: 0.052 \t Valid R2:  0.912\n",
      "/data2/yinterian/pmlb/models/model_1595_poker_acc_91.pth\n",
      "\tTrain loss: 0.067 \t Valid loss: 0.052 \t Valid R2:  0.911\n",
      "\tTrain loss: 0.067 \t Valid loss: 0.052 \t Valid R2:  0.912\n",
      "/data2/yinterian/pmlb/models/model_1595_poker_acc_91.pth\n"
     ]
    },
    {
     "name": "stdout",
     "output_type": "stream",
     "text": [
      "\tTrain loss: 0.067 \t Valid loss: 0.053 \t Valid R2:  0.911\n",
      "\tTrain loss: 0.066 \t Valid loss: 0.052 \t Valid R2:  0.912\n",
      "/data2/yinterian/pmlb/models/model_1595_poker_acc_91.pth\n",
      "\tTrain loss: 0.066 \t Valid loss: 0.052 \t Valid R2:  0.912\n",
      "\tTrain loss: 0.066 \t Valid loss: 0.052 \t Valid R2:  0.911\n",
      "\tTrain loss: 0.065 \t Valid loss: 0.053 \t Valid R2:  0.911\n",
      "\tTrain loss: 0.065 \t Valid loss: 0.053 \t Valid R2:  0.910\n",
      "\tTrain loss: 0.065 \t Valid loss: 0.051 \t Valid R2:  0.913\n",
      "/data2/yinterian/pmlb/models/model_1595_poker_acc_91.pth\n",
      "\tTrain loss: 0.065 \t Valid loss: 0.051 \t Valid R2:  0.913\n",
      "\tTrain loss: 0.064 \t Valid loss: 0.052 \t Valid R2:  0.912\n",
      "\tTrain loss: 0.064 \t Valid loss: 0.051 \t Valid R2:  0.913\n",
      "\tTrain loss: 0.065 \t Valid loss: 0.052 \t Valid R2:  0.912\n",
      "\tTrain loss: 0.065 \t Valid loss: 0.051 \t Valid R2:  0.913\n",
      "/data2/yinterian/pmlb/models/model_1595_poker_acc_91.pth\n",
      "\tTrain loss: 0.064 \t Valid loss: 0.052 \t Valid R2:  0.912\n",
      "\tTrain loss: 0.064 \t Valid loss: 0.051 \t Valid R2:  0.914\n",
      "/data2/yinterian/pmlb/models/model_1595_poker_acc_91.pth\n",
      "\tTrain loss: 0.063 \t Valid loss: 0.050 \t Valid R2:  0.915\n",
      "/data2/yinterian/pmlb/models/model_1595_poker_acc_91.pth\n",
      "\tTrain loss: 0.063 \t Valid loss: 0.051 \t Valid R2:  0.914\n",
      "Best valid r2: 0.915\n"
     ]
    }
   ],
   "source": [
    "optimizer = torch.optim.Adam(model.parameters(), lr=0.5, weight_decay=1e-5)\n",
    "best_r2 = train_model(model, train_dl, valid_dl, optimizer, epochs=100)"
   ]
  },
  {
   "cell_type": "code",
   "execution_count": 290,
   "metadata": {},
   "outputs": [
    {
     "data": {
      "text/plain": [
       "0.9145632767765612"
      ]
     },
     "execution_count": 290,
     "metadata": {},
     "output_type": "execute_result"
    }
   ],
   "source": [
    "best_r2"
   ]
  },
  {
   "cell_type": "code",
   "execution_count": 267,
   "metadata": {},
   "outputs": [
    {
     "data": {
      "application/vnd.jupyter.widget-view+json": {
       "model_id": "80d13b43c3294fa7afb4bfda49845f1b",
       "version_major": 2,
       "version_minor": 0
      },
      "text/plain": [
       "HBox(children=(FloatProgress(value=0.0, max=800.0), HTML(value='')))"
      ]
     },
     "metadata": {},
     "output_type": "display_data"
    },
    {
     "name": "stdout",
     "output_type": "stream",
     "text": [
      "\tTrain loss: 2.302 \t Valid loss: 0.749 \t Valid R2:  -0.271\n",
      "\tTrain loss: 0.815 \t Valid loss: 0.639 \t Valid R2:  -0.084\n",
      "\tTrain loss: 0.681 \t Valid loss: 0.661 \t Valid R2:  -0.122\n",
      "\tTrain loss: 0.624 \t Valid loss: 0.596 \t Valid R2:  -0.012\n",
      "\tTrain loss: 0.596 \t Valid loss: 0.567 \t Valid R2:  0.038\n",
      "/data2/yinterian/pmlb/models/model_1595_poker_acc_4.pth\n",
      "\tTrain loss: 0.581 \t Valid loss: 0.562 \t Valid R2:  0.047\n",
      "/data2/yinterian/pmlb/models/model_1595_poker_acc_5.pth\n",
      "\tTrain loss: 0.574 \t Valid loss: 0.553 \t Valid R2:  0.061\n",
      "/data2/yinterian/pmlb/models/model_1595_poker_acc_6.pth\n",
      "\tTrain loss: 0.570 \t Valid loss: 0.552 \t Valid R2:  0.063\n",
      "/data2/yinterian/pmlb/models/model_1595_poker_acc_6.pth\n",
      "\tTrain loss: 0.567 \t Valid loss: 0.549 \t Valid R2:  0.068\n",
      "/data2/yinterian/pmlb/models/model_1595_poker_acc_7.pth\n",
      "\tTrain loss: 0.565 \t Valid loss: 0.547 \t Valid R2:  0.072\n",
      "/data2/yinterian/pmlb/models/model_1595_poker_acc_7.pth\n",
      "\tTrain loss: 0.563 \t Valid loss: 0.546 \t Valid R2:  0.074\n",
      "/data2/yinterian/pmlb/models/model_1595_poker_acc_7.pth\n",
      "\tTrain loss: 0.561 \t Valid loss: 0.544 \t Valid R2:  0.077\n",
      "/data2/yinterian/pmlb/models/model_1595_poker_acc_8.pth\n",
      "\tTrain loss: 0.559 \t Valid loss: 0.541 \t Valid R2:  0.082\n",
      "/data2/yinterian/pmlb/models/model_1595_poker_acc_8.pth\n",
      "\tTrain loss: 0.557 \t Valid loss: 0.538 \t Valid R2:  0.088\n",
      "/data2/yinterian/pmlb/models/model_1595_poker_acc_9.pth\n",
      "\tTrain loss: 0.552 \t Valid loss: 0.533 \t Valid R2:  0.096\n",
      "/data2/yinterian/pmlb/models/model_1595_poker_acc_10.pth\n",
      "\tTrain loss: 0.543 \t Valid loss: 0.525 \t Valid R2:  0.110\n",
      "/data2/yinterian/pmlb/models/model_1595_poker_acc_11.pth\n",
      "\tTrain loss: 0.536 \t Valid loss: 0.514 \t Valid R2:  0.128\n",
      "/data2/yinterian/pmlb/models/model_1595_poker_acc_13.pth\n",
      "\tTrain loss: 0.532 \t Valid loss: 0.512 \t Valid R2:  0.131\n",
      "/data2/yinterian/pmlb/models/model_1595_poker_acc_13.pth\n",
      "\tTrain loss: 0.529 \t Valid loss: 0.509 \t Valid R2:  0.137\n",
      "/data2/yinterian/pmlb/models/model_1595_poker_acc_14.pth\n",
      "\tTrain loss: 0.524 \t Valid loss: 0.503 \t Valid R2:  0.147\n",
      "/data2/yinterian/pmlb/models/model_1595_poker_acc_15.pth\n",
      "\tTrain loss: 0.521 \t Valid loss: 0.499 \t Valid R2:  0.154\n",
      "/data2/yinterian/pmlb/models/model_1595_poker_acc_15.pth\n",
      "\tTrain loss: 0.517 \t Valid loss: 0.499 \t Valid R2:  0.153\n",
      "\tTrain loss: 0.517 \t Valid loss: 0.494 \t Valid R2:  0.161\n",
      "/data2/yinterian/pmlb/models/model_1595_poker_acc_16.pth\n",
      "\tTrain loss: 0.512 \t Valid loss: 0.492 \t Valid R2:  0.165\n",
      "/data2/yinterian/pmlb/models/model_1595_poker_acc_16.pth\n",
      "\tTrain loss: 0.508 \t Valid loss: 0.489 \t Valid R2:  0.170\n",
      "/data2/yinterian/pmlb/models/model_1595_poker_acc_17.pth\n",
      "\tTrain loss: 0.505 \t Valid loss: 0.489 \t Valid R2:  0.170\n",
      "/data2/yinterian/pmlb/models/model_1595_poker_acc_17.pth\n",
      "\tTrain loss: 0.505 \t Valid loss: 0.486 \t Valid R2:  0.175\n",
      "/data2/yinterian/pmlb/models/model_1595_poker_acc_18.pth\n",
      "\tTrain loss: 0.505 \t Valid loss: 0.481 \t Valid R2:  0.184\n",
      "/data2/yinterian/pmlb/models/model_1595_poker_acc_18.pth\n",
      "\tTrain loss: 0.498 \t Valid loss: 0.481 \t Valid R2:  0.184\n",
      "\tTrain loss: 0.493 \t Valid loss: 0.481 \t Valid R2:  0.185\n",
      "/data2/yinterian/pmlb/models/model_1595_poker_acc_18.pth\n",
      "\tTrain loss: 0.488 \t Valid loss: 0.477 \t Valid R2:  0.191\n",
      "/data2/yinterian/pmlb/models/model_1595_poker_acc_19.pth\n",
      "\tTrain loss: 0.492 \t Valid loss: 0.487 \t Valid R2:  0.173\n",
      "\tTrain loss: 0.473 \t Valid loss: 0.470 \t Valid R2:  0.202\n",
      "/data2/yinterian/pmlb/models/model_1595_poker_acc_20.pth\n",
      "\tTrain loss: 0.470 \t Valid loss: 0.603 \t Valid R2:  -0.023\n",
      "\tTrain loss: 0.530 \t Valid loss: 0.517 \t Valid R2:  0.123\n",
      "\tTrain loss: 0.493 \t Valid loss: 0.461 \t Valid R2:  0.218\n",
      "/data2/yinterian/pmlb/models/model_1595_poker_acc_22.pth\n",
      "\tTrain loss: 0.466 \t Valid loss: 0.457 \t Valid R2:  0.225\n",
      "/data2/yinterian/pmlb/models/model_1595_poker_acc_22.pth\n",
      "\tTrain loss: 0.443 \t Valid loss: 0.445 \t Valid R2:  0.244\n",
      "/data2/yinterian/pmlb/models/model_1595_poker_acc_24.pth\n",
      "\tTrain loss: 0.426 \t Valid loss: 0.442 \t Valid R2:  0.250\n",
      "/data2/yinterian/pmlb/models/model_1595_poker_acc_25.pth\n",
      "\tTrain loss: 0.406 \t Valid loss: 0.429 \t Valid R2:  0.272\n",
      "/data2/yinterian/pmlb/models/model_1595_poker_acc_27.pth\n",
      "\tTrain loss: 0.391 \t Valid loss: 0.383 \t Valid R2:  0.350\n",
      "/data2/yinterian/pmlb/models/model_1595_poker_acc_35.pth\n",
      "\tTrain loss: 0.381 \t Valid loss: 0.352 \t Valid R2:  0.403\n",
      "/data2/yinterian/pmlb/models/model_1595_poker_acc_40.pth\n",
      "\tTrain loss: 0.349 \t Valid loss: 0.409 \t Valid R2:  0.306\n",
      "\tTrain loss: 0.338 \t Valid loss: 0.297 \t Valid R2:  0.496\n",
      "/data2/yinterian/pmlb/models/model_1595_poker_acc_50.pth\n",
      "\tTrain loss: 0.330 \t Valid loss: 0.311 \t Valid R2:  0.473\n",
      "\tTrain loss: 0.301 \t Valid loss: 0.300 \t Valid R2:  0.491\n",
      "\tTrain loss: 0.272 \t Valid loss: 0.216 \t Valid R2:  0.634\n",
      "/data2/yinterian/pmlb/models/model_1595_poker_acc_63.pth\n",
      "\tTrain loss: 0.243 \t Valid loss: 0.223 \t Valid R2:  0.621\n",
      "\tTrain loss: 0.245 \t Valid loss: 0.183 \t Valid R2:  0.690\n",
      "/data2/yinterian/pmlb/models/model_1595_poker_acc_69.pth\n",
      "\tTrain loss: 0.210 \t Valid loss: 0.179 \t Valid R2:  0.697\n",
      "/data2/yinterian/pmlb/models/model_1595_poker_acc_70.pth\n",
      "\tTrain loss: 0.196 \t Valid loss: 0.153 \t Valid R2:  0.741\n",
      "/data2/yinterian/pmlb/models/model_1595_poker_acc_74.pth\n",
      "\tTrain loss: 0.190 \t Valid loss: 0.153 \t Valid R2:  0.740\n",
      "\tTrain loss: 0.176 \t Valid loss: 0.134 \t Valid R2:  0.773\n",
      "/data2/yinterian/pmlb/models/model_1595_poker_acc_77.pth\n",
      "\tTrain loss: 0.170 \t Valid loss: 0.125 \t Valid R2:  0.787\n",
      "/data2/yinterian/pmlb/models/model_1595_poker_acc_79.pth\n",
      "\tTrain loss: 0.153 \t Valid loss: 0.119 \t Valid R2:  0.797\n",
      "/data2/yinterian/pmlb/models/model_1595_poker_acc_80.pth\n",
      "\tTrain loss: 0.148 \t Valid loss: 0.160 \t Valid R2:  0.729\n",
      "\tTrain loss: 0.158 \t Valid loss: 0.108 \t Valid R2:  0.817\n",
      "/data2/yinterian/pmlb/models/model_1595_poker_acc_82.pth\n",
      "\tTrain loss: 0.139 \t Valid loss: 0.104 \t Valid R2:  0.824\n",
      "/data2/yinterian/pmlb/models/model_1595_poker_acc_82.pth\n",
      "\tTrain loss: 0.127 \t Valid loss: 0.094 \t Valid R2:  0.841\n",
      "/data2/yinterian/pmlb/models/model_1595_poker_acc_84.pth\n",
      "\tTrain loss: 0.120 \t Valid loss: 0.094 \t Valid R2:  0.841\n",
      "\tTrain loss: 0.116 \t Valid loss: 0.078 \t Valid R2:  0.867\n",
      "/data2/yinterian/pmlb/models/model_1595_poker_acc_87.pth\n",
      "\tTrain loss: 0.108 \t Valid loss: 0.080 \t Valid R2:  0.864\n",
      "\tTrain loss: 0.105 \t Valid loss: 0.073 \t Valid R2:  0.875\n",
      "/data2/yinterian/pmlb/models/model_1595_poker_acc_88.pth\n",
      "\tTrain loss: 0.101 \t Valid loss: 0.082 \t Valid R2:  0.860\n",
      "\tTrain loss: 0.104 \t Valid loss: 0.074 \t Valid R2:  0.874\n",
      "\tTrain loss: 0.102 \t Valid loss: 0.069 \t Valid R2:  0.883\n",
      "/data2/yinterian/pmlb/models/model_1595_poker_acc_88.pth\n",
      "\tTrain loss: 0.096 \t Valid loss: 0.070 \t Valid R2:  0.881\n",
      "\tTrain loss: 0.093 \t Valid loss: 0.070 \t Valid R2:  0.882\n",
      "\tTrain loss: 0.088 \t Valid loss: 0.058 \t Valid R2:  0.901\n",
      "/data2/yinterian/pmlb/models/model_1595_poker_acc_90.pth\n",
      "\tTrain loss: 0.085 \t Valid loss: 0.058 \t Valid R2:  0.901\n",
      "/data2/yinterian/pmlb/models/model_1595_poker_acc_90.pth\n",
      "\tTrain loss: 0.082 \t Valid loss: 0.067 \t Valid R2:  0.886\n",
      "\tTrain loss: 0.082 \t Valid loss: 0.058 \t Valid R2:  0.901\n",
      "\tTrain loss: 0.081 \t Valid loss: 0.055 \t Valid R2:  0.907\n",
      "/data2/yinterian/pmlb/models/model_1595_poker_acc_91.pth\n",
      "\tTrain loss: 0.079 \t Valid loss: 0.060 \t Valid R2:  0.898\n",
      "\tTrain loss: 0.076 \t Valid loss: 0.058 \t Valid R2:  0.902\n",
      "\tTrain loss: 0.075 \t Valid loss: 0.053 \t Valid R2:  0.910\n",
      "/data2/yinterian/pmlb/models/model_1595_poker_acc_91.pth\n",
      "\tTrain loss: 0.073 \t Valid loss: 0.055 \t Valid R2:  0.907\n",
      "\tTrain loss: 0.072 \t Valid loss: 0.051 \t Valid R2:  0.913\n",
      "/data2/yinterian/pmlb/models/model_1595_poker_acc_91.pth\n",
      "\tTrain loss: 0.070 \t Valid loss: 0.049 \t Valid R2:  0.917\n",
      "/data2/yinterian/pmlb/models/model_1595_poker_acc_92.pth\n",
      "\tTrain loss: 0.069 \t Valid loss: 0.055 \t Valid R2:  0.907\n",
      "\tTrain loss: 0.068 \t Valid loss: 0.049 \t Valid R2:  0.917\n",
      "/data2/yinterian/pmlb/models/model_1595_poker_acc_92.pth\n",
      "\tTrain loss: 0.066 \t Valid loss: 0.049 \t Valid R2:  0.917\n",
      "\tTrain loss: 0.065 \t Valid loss: 0.051 \t Valid R2:  0.914\n",
      "\tTrain loss: 0.064 \t Valid loss: 0.048 \t Valid R2:  0.918\n",
      "/data2/yinterian/pmlb/models/model_1595_poker_acc_92.pth\n",
      "\tTrain loss: 0.063 \t Valid loss: 0.048 \t Valid R2:  0.918\n",
      "\tTrain loss: 0.063 \t Valid loss: 0.048 \t Valid R2:  0.919\n",
      "/data2/yinterian/pmlb/models/model_1595_poker_acc_92.pth\n",
      "\tTrain loss: 0.064 \t Valid loss: 0.047 \t Valid R2:  0.920\n",
      "/data2/yinterian/pmlb/models/model_1595_poker_acc_92.pth\n"
     ]
    },
    {
     "name": "stdout",
     "output_type": "stream",
     "text": [
      "\tTrain loss: 0.062 \t Valid loss: 0.049 \t Valid R2:  0.917\n",
      "\tTrain loss: 0.061 \t Valid loss: 0.046 \t Valid R2:  0.922\n",
      "/data2/yinterian/pmlb/models/model_1595_poker_acc_92.pth\n",
      "\tTrain loss: 0.062 \t Valid loss: 0.044 \t Valid R2:  0.926\n",
      "/data2/yinterian/pmlb/models/model_1595_poker_acc_93.pth\n",
      "\tTrain loss: 0.060 \t Valid loss: 0.045 \t Valid R2:  0.923\n",
      "\tTrain loss: 0.061 \t Valid loss: 0.046 \t Valid R2:  0.922\n",
      "\tTrain loss: 0.060 \t Valid loss: 0.046 \t Valid R2:  0.922\n",
      "\tTrain loss: 0.060 \t Valid loss: 0.045 \t Valid R2:  0.923\n",
      "\tTrain loss: 0.059 \t Valid loss: 0.044 \t Valid R2:  0.925\n",
      "\tTrain loss: 0.058 \t Valid loss: 0.048 \t Valid R2:  0.919\n",
      "\tTrain loss: 0.059 \t Valid loss: 0.043 \t Valid R2:  0.927\n",
      "/data2/yinterian/pmlb/models/model_1595_poker_acc_93.pth\n",
      "\tTrain loss: 0.058 \t Valid loss: 0.046 \t Valid R2:  0.921\n",
      "\tTrain loss: 0.058 \t Valid loss: 0.046 \t Valid R2:  0.923\n",
      "\tTrain loss: 0.059 \t Valid loss: 0.043 \t Valid R2:  0.927\n",
      "Best valid r2: 0.927\n"
     ]
    }
   ],
   "source": [
    "optimizer = torch.optim.Adam(model.parameters(), lr=0.5, weight_decay=1e-5)\n",
    "best_r2 = train_model(model, train_dl, valid_dl, optimizer, epochs=100)"
   ]
  },
  {
   "cell_type": "code",
   "execution_count": 268,
   "metadata": {},
   "outputs": [
    {
     "data": {
      "text/plain": [
       "0.927311149704626"
      ]
     },
     "execution_count": 268,
     "metadata": {},
     "output_type": "execute_result"
    }
   ],
   "source": [
    "best_r2"
   ]
  },
  {
   "cell_type": "markdown",
   "metadata": {
    "heading_collapsed": true
   },
   "source": [
    "## Sparse model "
   ]
  },
  {
   "cell_type": "code",
   "execution_count": 215,
   "metadata": {
    "hidden": true
   },
   "outputs": [],
   "source": [
    "class MaskedLinear(nn.Module):\n",
    "    def __init__(self, in_features, out_features, mask):\n",
    "        super(MaskedLinear, self).__init__()\n",
    "        self.linear = nn.Linear(in_features, out_features)\n",
    "        self.mask = nn.Parameter(mask, requires_grad=False)\n",
    "        \n",
    "    def update_mask(self, mask):\n",
    "        self.mask = nn.Parameter(mask, requires_grad=False)\n",
    "    \n",
    "    def forward(self, x):\n",
    "        self.linear.weight.data *= self.mask # to zero it out\n",
    "        return self.linear(x)"
   ]
  },
  {
   "cell_type": "code",
   "execution_count": 216,
   "metadata": {
    "hidden": true
   },
   "outputs": [],
   "source": [
    "class TabularNetV2(nn.Module):\n",
    "    def __init__(self, num_cont, num_cat, level_arr, mask, hidden_dim2=50):\n",
    "        super(TabularNetV2, self).__init__()\n",
    "        in_dim = num_cont + 2*num_cat\n",
    "        hidden_dim = mask.shape[0]\n",
    "        self.embs = nn.ModuleList([nn.Embedding(level_arr[i], 2) for i in range(len(level_arr))])\n",
    "        self.bn1 = nn.BatchNorm1d(hidden_dim)\n",
    "        self.bn2 = nn.BatchNorm1d(hidden_dim2)\n",
    "        self.linear1 = MaskedLinear(in_dim, hidden_dim, mask)\n",
    "        self.linear2 = nn.Linear(hidden_dim, hidden_dim2)\n",
    "        self.linear3 = nn.Linear(hidden_dim2, 1)\n",
    "        self.dropout = nn.Dropout(0.2)\n",
    "                                  \n",
    "    def forward(self, x_cat, x_cont):\n",
    "        x_cat = [self.embs[i](x_cat[:,i]) for i in range(x_cat.size(1))]\n",
    "        x_cat = torch.cat(x_cat, dim=1)\n",
    "        x_cat = self.dropout(x_cat)\n",
    "        x = torch.cat([x_cont, x_cat], dim=1)\n",
    "        x = self.bn1(F.relu(self.linear1(x)))\n",
    "        x = self.dropout(x)\n",
    "        x = self.bn2(F.relu(self.linear2(x)))\n",
    "        return self.linear3(x)"
   ]
  },
  {
   "cell_type": "code",
   "execution_count": 217,
   "metadata": {
    "hidden": true
   },
   "outputs": [],
   "source": [
    "class TabularNetV2Cont(nn.Module):\n",
    "    def __init__(self, num_cont, mask, hidden_dim2=1000):\n",
    "        super(TabularNetV2Cont, self).__init__()\n",
    "        in_dim = num_cont + 2*num_cat\n",
    "        hidden_dim = mask.shape[0]\n",
    "        self.bn1 = nn.BatchNorm1d(hidden_dim)\n",
    "        self.bn2 = nn.BatchNorm1d(hidden_dim2)\n",
    "        self.linear1 = MaskedLinear(in_dim, hidden_dim, mask)\n",
    "        self.linear2 = nn.Linear(hidden_dim, hidden_dim2)\n",
    "        self.linear3 = nn.Linear(hidden_dim2, 1)\n",
    "        self.dropout = nn.Dropout(0.2)\n",
    "                                  \n",
    "    def forward(self, x_cat, x_cont):\n",
    "        x = self.bn1(F.relu(self.linear1(x_cont)))\n",
    "        \n",
    "        x = self.bn2(F.relu(self.linear2(x)))\n",
    "        return self.linear3(x)"
   ]
  },
  {
   "cell_type": "code",
   "execution_count": 218,
   "metadata": {
    "hidden": true
   },
   "outputs": [
    {
     "data": {
      "text/plain": [
       "'215_2dplanes'"
      ]
     },
     "execution_count": 218,
     "metadata": {},
     "output_type": "execute_result"
    }
   ],
   "source": [
    "dataset"
   ]
  },
  {
   "cell_type": "code",
   "execution_count": 219,
   "metadata": {
    "hidden": true
   },
   "outputs": [],
   "source": [
    "num_cont = len(cont_ind)\n",
    "num_cat = len(cat_ind)\n",
    "input_dim = num_cont + 2*num_cat\n",
    "hidden_dim = 1000\n",
    "w = torch.ones((hidden_dim, input_dim)).float()"
   ]
  },
  {
   "cell_type": "code",
   "execution_count": 220,
   "metadata": {
    "hidden": true
   },
   "outputs": [],
   "source": [
    "num_cont = len(cont_ind)\n",
    "num_cat = len(cat_ind)"
   ]
  },
  {
   "cell_type": "markdown",
   "metadata": {
    "heading_collapsed": true
   },
   "source": [
    "## Training new model"
   ]
  },
  {
   "cell_type": "code",
   "execution_count": 221,
   "metadata": {
    "hidden": true
   },
   "outputs": [],
   "source": [
    "batch_size = 70000\n",
    "\n",
    "train_dl = DataLoader(train_ds, batch_size=batch_size, shuffle=True)\n",
    "valid_dl = DataLoader(valid_ds, batch_size=batch_size)"
   ]
  },
  {
   "cell_type": "code",
   "execution_count": 222,
   "metadata": {
    "hidden": true
   },
   "outputs": [],
   "source": [
    "def get_new_w(model, p=0.05):\n",
    "    ww = model.linear1.linear.weight.clone()\n",
    "    ww = ww.cpu().detach()\n",
    "    mask = model.linear1.mask.cpu()\n",
    "    ww = ww*mask\n",
    "    q = np.quantile(np.abs(ww.numpy()), p)\n",
    "    return (torch.abs(ww) > q).float()"
   ]
  },
  {
   "cell_type": "code",
   "execution_count": 234,
   "metadata": {
    "hidden": true
   },
   "outputs": [],
   "source": [
    "w = torch.ones((hidden_dim, input_dim)).float()"
   ]
  },
  {
   "cell_type": "code",
   "execution_count": 235,
   "metadata": {
    "hidden": true
   },
   "outputs": [
    {
     "data": {
      "application/vnd.jupyter.widget-view+json": {
       "model_id": "8e1b6ef1abae45a6b389b0922ba76075",
       "version_major": 2,
       "version_minor": 0
      },
      "text/plain": [
       "HBox(children=(FloatProgress(value=0.0), HTML(value='')))"
      ]
     },
     "metadata": {},
     "output_type": "display_data"
    },
    {
     "name": "stdout",
     "output_type": "stream",
     "text": [
      "\tTrain loss: 20.359 \t Valid loss: 13.335 \t Valid R2:  0.317\n",
      "/data2/yinterian/pmlb/models/model_215_2dplanes_acc_32.pth\n",
      "\tTrain loss: 9.258 \t Valid loss: 9.746 \t Valid R2:  0.501\n",
      "/data2/yinterian/pmlb/models/model_215_2dplanes_acc_50.pth\n",
      "\tTrain loss: 7.726 \t Valid loss: 8.063 \t Valid R2:  0.587\n",
      "/data2/yinterian/pmlb/models/model_215_2dplanes_acc_59.pth\n",
      "\tTrain loss: 7.124 \t Valid loss: 7.242 \t Valid R2:  0.629\n",
      "/data2/yinterian/pmlb/models/model_215_2dplanes_acc_63.pth\n",
      "\tTrain loss: 6.634 \t Valid loss: 6.751 \t Valid R2:  0.654\n",
      "/data2/yinterian/pmlb/models/model_215_2dplanes_acc_65.pth\n",
      "\tTrain loss: 6.277 \t Valid loss: 6.543 \t Valid R2:  0.665\n",
      "/data2/yinterian/pmlb/models/model_215_2dplanes_acc_66.pth\n",
      "\tTrain loss: 6.019 \t Valid loss: 6.563 \t Valid R2:  0.664\n",
      "\tTrain loss: 5.680 \t Valid loss: 6.699 \t Valid R2:  0.657\n",
      "\tTrain loss: 5.318 \t Valid loss: 6.705 \t Valid R2:  0.657\n",
      "\tTrain loss: 5.081 \t Valid loss: 6.442 \t Valid R2:  0.670\n",
      "/data2/yinterian/pmlb/models/model_215_2dplanes_acc_67.pth\n",
      "\tTrain loss: 4.836 \t Valid loss: 5.784 \t Valid R2:  0.704\n",
      "/data2/yinterian/pmlb/models/model_215_2dplanes_acc_70.pth\n",
      "\tTrain loss: 4.605 \t Valid loss: 4.882 \t Valid R2:  0.750\n",
      "/data2/yinterian/pmlb/models/model_215_2dplanes_acc_75.pth\n",
      "\tTrain loss: 4.285 \t Valid loss: 4.063 \t Valid R2:  0.792\n",
      "/data2/yinterian/pmlb/models/model_215_2dplanes_acc_79.pth\n",
      "\tTrain loss: 4.126 \t Valid loss: 3.630 \t Valid R2:  0.814\n",
      "/data2/yinterian/pmlb/models/model_215_2dplanes_acc_81.pth\n",
      "\tTrain loss: 4.061 \t Valid loss: 3.479 \t Valid R2:  0.822\n",
      "/data2/yinterian/pmlb/models/model_215_2dplanes_acc_82.pth\n",
      "\tTrain loss: 3.878 \t Valid loss: 3.406 \t Valid R2:  0.826\n",
      "/data2/yinterian/pmlb/models/model_215_2dplanes_acc_83.pth\n",
      "\tTrain loss: 3.696 \t Valid loss: 3.214 \t Valid R2:  0.835\n",
      "/data2/yinterian/pmlb/models/model_215_2dplanes_acc_84.pth\n",
      "\tTrain loss: 3.567 \t Valid loss: 2.820 \t Valid R2:  0.856\n",
      "/data2/yinterian/pmlb/models/model_215_2dplanes_acc_86.pth\n",
      "\tTrain loss: 3.403 \t Valid loss: 2.343 \t Valid R2:  0.880\n",
      "/data2/yinterian/pmlb/models/model_215_2dplanes_acc_88.pth\n",
      "\tTrain loss: 3.241 \t Valid loss: 2.021 \t Valid R2:  0.896\n",
      "/data2/yinterian/pmlb/models/model_215_2dplanes_acc_90.pth\n",
      "\tTrain loss: 3.256 \t Valid loss: 1.847 \t Valid R2:  0.905\n",
      "/data2/yinterian/pmlb/models/model_215_2dplanes_acc_91.pth\n",
      "\tTrain loss: 3.140 \t Valid loss: 1.790 \t Valid R2:  0.908\n",
      "/data2/yinterian/pmlb/models/model_215_2dplanes_acc_91.pth\n",
      "\tTrain loss: 3.030 \t Valid loss: 1.852 \t Valid R2:  0.905\n",
      "\tTrain loss: 3.009 \t Valid loss: 2.192 \t Valid R2:  0.888\n",
      "\tTrain loss: 2.900 \t Valid loss: 2.818 \t Valid R2:  0.856\n",
      "\tTrain loss: 2.865 \t Valid loss: 3.080 \t Valid R2:  0.842\n",
      "\tTrain loss: 2.857 \t Valid loss: 2.778 \t Valid R2:  0.858\n",
      "\tTrain loss: 2.777 \t Valid loss: 2.657 \t Valid R2:  0.864\n",
      "\tTrain loss: 2.707 \t Valid loss: 3.151 \t Valid R2:  0.839\n",
      "\tTrain loss: 2.660 \t Valid loss: 3.382 \t Valid R2:  0.827\n",
      "\tTrain loss: 2.632 \t Valid loss: 3.054 \t Valid R2:  0.844\n",
      "\tTrain loss: 2.521 \t Valid loss: 3.005 \t Valid R2:  0.846\n",
      "\tTrain loss: 2.526 \t Valid loss: 3.303 \t Valid R2:  0.831\n",
      "\tTrain loss: 2.523 \t Valid loss: 3.237 \t Valid R2:  0.834\n",
      "\tTrain loss: 2.470 \t Valid loss: 2.750 \t Valid R2:  0.859\n",
      "\tTrain loss: 2.418 \t Valid loss: 2.527 \t Valid R2:  0.871\n",
      "\tTrain loss: 2.400 \t Valid loss: 2.691 \t Valid R2:  0.862\n",
      "\tTrain loss: 2.409 \t Valid loss: 2.796 \t Valid R2:  0.857\n",
      "\tTrain loss: 2.358 \t Valid loss: 2.519 \t Valid R2:  0.871\n",
      "\tTrain loss: 2.306 \t Valid loss: 2.228 \t Valid R2:  0.886\n",
      "\tTrain loss: 2.256 \t Valid loss: 2.255 \t Valid R2:  0.884\n",
      "\tTrain loss: 2.286 \t Valid loss: 2.345 \t Valid R2:  0.880\n",
      "\tTrain loss: 2.232 \t Valid loss: 2.201 \t Valid R2:  0.887\n",
      "\tTrain loss: 2.245 \t Valid loss: 1.937 \t Valid R2:  0.901\n",
      "\tTrain loss: 2.184 \t Valid loss: 1.857 \t Valid R2:  0.905\n",
      "\tTrain loss: 2.159 \t Valid loss: 1.904 \t Valid R2:  0.902\n",
      "\tTrain loss: 2.157 \t Valid loss: 1.838 \t Valid R2:  0.906\n",
      "\tTrain loss: 2.144 \t Valid loss: 1.619 \t Valid R2:  0.917\n",
      "/data2/yinterian/pmlb/models/model_215_2dplanes_acc_92.pth\n",
      "\tTrain loss: 2.151 \t Valid loss: 1.463 \t Valid R2:  0.925\n",
      "/data2/yinterian/pmlb/models/model_215_2dplanes_acc_93.pth\n",
      "\tTrain loss: 2.098 \t Valid loss: 1.425 \t Valid R2:  0.927\n",
      "/data2/yinterian/pmlb/models/model_215_2dplanes_acc_93.pth\n",
      "\tTrain loss: 2.091 \t Valid loss: 1.384 \t Valid R2:  0.929\n",
      "/data2/yinterian/pmlb/models/model_215_2dplanes_acc_93.pth\n",
      "\tTrain loss: 2.098 \t Valid loss: 1.286 \t Valid R2:  0.934\n",
      "/data2/yinterian/pmlb/models/model_215_2dplanes_acc_93.pth\n",
      "\tTrain loss: 2.080 \t Valid loss: 1.206 \t Valid R2:  0.938\n",
      "/data2/yinterian/pmlb/models/model_215_2dplanes_acc_94.pth\n",
      "\tTrain loss: 2.050 \t Valid loss: 1.182 \t Valid R2:  0.939\n",
      "/data2/yinterian/pmlb/models/model_215_2dplanes_acc_94.pth\n",
      "\tTrain loss: 2.039 \t Valid loss: 1.170 \t Valid R2:  0.940\n",
      "/data2/yinterian/pmlb/models/model_215_2dplanes_acc_94.pth\n",
      "\tTrain loss: 2.033 \t Valid loss: 1.132 \t Valid R2:  0.942\n",
      "/data2/yinterian/pmlb/models/model_215_2dplanes_acc_94.pth\n",
      "\tTrain loss: 2.016 \t Valid loss: 1.099 \t Valid R2:  0.944\n",
      "/data2/yinterian/pmlb/models/model_215_2dplanes_acc_94.pth\n",
      "\tTrain loss: 1.980 \t Valid loss: 1.084 \t Valid R2:  0.944\n",
      "/data2/yinterian/pmlb/models/model_215_2dplanes_acc_94.pth\n",
      "\tTrain loss: 1.973 \t Valid loss: 1.081 \t Valid R2:  0.945\n",
      "/data2/yinterian/pmlb/models/model_215_2dplanes_acc_94.pth\n",
      "\tTrain loss: 1.994 \t Valid loss: 1.079 \t Valid R2:  0.945\n",
      "/data2/yinterian/pmlb/models/model_215_2dplanes_acc_94.pth\n",
      "\tTrain loss: 1.969 \t Valid loss: 1.081 \t Valid R2:  0.945\n",
      "\tTrain loss: 1.966 \t Valid loss: 1.087 \t Valid R2:  0.944\n",
      "\tTrain loss: 1.939 \t Valid loss: 1.093 \t Valid R2:  0.944\n",
      "\tTrain loss: 1.928 \t Valid loss: 1.102 \t Valid R2:  0.944\n",
      "\tTrain loss: 1.909 \t Valid loss: 1.114 \t Valid R2:  0.943\n",
      "\tTrain loss: 1.899 \t Valid loss: 1.128 \t Valid R2:  0.942\n",
      "\tTrain loss: 1.901 \t Valid loss: 1.139 \t Valid R2:  0.942\n",
      "\tTrain loss: 1.872 \t Valid loss: 1.147 \t Valid R2:  0.941\n",
      "\tTrain loss: 1.862 \t Valid loss: 1.153 \t Valid R2:  0.941\n",
      "\tTrain loss: 1.848 \t Valid loss: 1.167 \t Valid R2:  0.940\n",
      "\tTrain loss: 1.802 \t Valid loss: 1.179 \t Valid R2:  0.940\n",
      "\tTrain loss: 1.825 \t Valid loss: 1.188 \t Valid R2:  0.939\n",
      "\tTrain loss: 1.829 \t Valid loss: 1.202 \t Valid R2:  0.938\n",
      "\tTrain loss: 1.840 \t Valid loss: 1.214 \t Valid R2:  0.938\n",
      "\tTrain loss: 1.790 \t Valid loss: 1.220 \t Valid R2:  0.938\n",
      "\tTrain loss: 1.764 \t Valid loss: 1.219 \t Valid R2:  0.938\n",
      "\tTrain loss: 1.772 \t Valid loss: 1.222 \t Valid R2:  0.937\n",
      "\tTrain loss: 1.764 \t Valid loss: 1.236 \t Valid R2:  0.937\n",
      "\tTrain loss: 1.742 \t Valid loss: 1.249 \t Valid R2:  0.936\n",
      "\tTrain loss: 1.748 \t Valid loss: 1.253 \t Valid R2:  0.936\n",
      "\tTrain loss: 1.772 \t Valid loss: 1.253 \t Valid R2:  0.936\n",
      "\tTrain loss: 1.722 \t Valid loss: 1.259 \t Valid R2:  0.936\n",
      "\tTrain loss: 1.735 \t Valid loss: 1.275 \t Valid R2:  0.935\n",
      "\tTrain loss: 1.704 \t Valid loss: 1.284 \t Valid R2:  0.934\n",
      "\tTrain loss: 1.710 \t Valid loss: 1.280 \t Valid R2:  0.934\n",
      "\tTrain loss: 1.713 \t Valid loss: 1.272 \t Valid R2:  0.935\n",
      "\tTrain loss: 1.729 \t Valid loss: 1.264 \t Valid R2:  0.935\n",
      "\tTrain loss: 1.702 \t Valid loss: 1.264 \t Valid R2:  0.935\n",
      "\tTrain loss: 1.695 \t Valid loss: 1.266 \t Valid R2:  0.935\n",
      "\tTrain loss: 1.687 \t Valid loss: 1.269 \t Valid R2:  0.935\n",
      "\tTrain loss: 1.688 \t Valid loss: 1.269 \t Valid R2:  0.935\n",
      "\tTrain loss: 1.688 \t Valid loss: 1.270 \t Valid R2:  0.935\n",
      "\tTrain loss: 1.690 \t Valid loss: 1.273 \t Valid R2:  0.935\n",
      "\tTrain loss: 1.677 \t Valid loss: 1.277 \t Valid R2:  0.935\n",
      "\tTrain loss: 1.671 \t Valid loss: 1.280 \t Valid R2:  0.934\n",
      "\tTrain loss: 1.667 \t Valid loss: 1.283 \t Valid R2:  0.934\n",
      "\tTrain loss: 1.654 \t Valid loss: 1.282 \t Valid R2:  0.934\n",
      "\tTrain loss: 1.667 \t Valid loss: 1.284 \t Valid R2:  0.934\n",
      "\tTrain loss: 1.649 \t Valid loss: 1.288 \t Valid R2:  0.934\n",
      "\tTrain loss: 1.658 \t Valid loss: 1.294 \t Valid R2:  0.934\n",
      "Best valid r2: 0.945\n"
     ]
    }
   ],
   "source": [
    "model = TabularNetV2(num_cont, num_cat, level_arr, w).cuda()\n",
    "#model = TabularNetV2Cont(num_cont, w).cuda()\n",
    "optimizer = torch.optim.Adam(model.parameters(), lr=0.5, weight_decay=1e-5)\n",
    "best_r2 = train_model(model, train_dl, valid_dl, optimizer, epochs=100)"
   ]
  },
  {
   "cell_type": "code",
   "execution_count": 236,
   "metadata": {
    "hidden": true
   },
   "outputs": [],
   "source": [
    "model = TabularNetV2(num_cont, num_cat, level_arr, w).cuda()\n",
    "#model = TabularNetV2Cont(num_cont, w).cuda()\n",
    "path = \"{0}/models/model_{1}_acc_{2:.0f}.pth\".format(PATH, dataset, 100*best_r2) \n",
    "load_model(model, path)"
   ]
  },
  {
   "cell_type": "code",
   "execution_count": 237,
   "metadata": {
    "hidden": true
   },
   "outputs": [],
   "source": [
    "w = get_new_w(model, p=0.3)\n",
    "model.linear1.update_mask(w.cuda())"
   ]
  },
  {
   "cell_type": "code",
   "execution_count": 238,
   "metadata": {
    "hidden": true
   },
   "outputs": [
    {
     "data": {
      "application/vnd.jupyter.widget-view+json": {
       "model_id": "eae410707e4a4fd99e4085d94c571b3e",
       "version_major": 2,
       "version_minor": 0
      },
      "text/plain": [
       "HBox(children=(FloatProgress(value=0.0, max=15.0), HTML(value='')))"
      ]
     },
     "metadata": {},
     "output_type": "display_data"
    },
    {
     "name": "stdout",
     "output_type": "stream",
     "text": [
      "\tTrain loss: 1.981 \t Valid loss: 1.612 \t Valid R2:  0.917\n",
      "/data2/yinterian/pmlb/models/model_215_2dplanes_acc_92.pth\n",
      "\tTrain loss: 2.333 \t Valid loss: 1.363 \t Valid R2:  0.930\n",
      "/data2/yinterian/pmlb/models/model_215_2dplanes_acc_93.pth\n",
      "\tTrain loss: 2.099 \t Valid loss: 1.973 \t Valid R2:  0.899\n",
      "\tTrain loss: 2.532 \t Valid loss: 1.198 \t Valid R2:  0.939\n",
      "/data2/yinterian/pmlb/models/model_215_2dplanes_acc_94.pth\n",
      "\tTrain loss: 1.996 \t Valid loss: 1.369 \t Valid R2:  0.930\n",
      "\tTrain loss: 2.270 \t Valid loss: 1.492 \t Valid R2:  0.924\n",
      "\tTrain loss: 2.001 \t Valid loss: 2.152 \t Valid R2:  0.890\n",
      "\tTrain loss: 1.943 \t Valid loss: 2.279 \t Valid R2:  0.883\n",
      "\tTrain loss: 1.932 \t Valid loss: 1.862 \t Valid R2:  0.905\n",
      "\tTrain loss: 1.876 \t Valid loss: 1.516 \t Valid R2:  0.922\n",
      "\tTrain loss: 1.843 \t Valid loss: 1.376 \t Valid R2:  0.930\n",
      "\tTrain loss: 1.813 \t Valid loss: 1.326 \t Valid R2:  0.932\n",
      "\tTrain loss: 1.756 \t Valid loss: 1.301 \t Valid R2:  0.933\n",
      "\tTrain loss: 1.762 \t Valid loss: 1.274 \t Valid R2:  0.935\n",
      "\tTrain loss: 1.740 \t Valid loss: 1.244 \t Valid R2:  0.936\n",
      "Best valid r2: 0.939\n"
     ]
    },
    {
     "data": {
      "text/plain": [
       "0.9386260179674757"
      ]
     },
     "execution_count": 238,
     "metadata": {},
     "output_type": "execute_result"
    }
   ],
   "source": [
    "#model = TabularNetV2(num_cont, num_cat, level_arr, w).cuda()\n",
    "optimizer = torch.optim.Adam(model.parameters(), lr=0.1, weight_decay=1e-5)\n",
    "train_model(model, train_dl, valid_dl, optimizer, epochs=15)"
   ]
  },
  {
   "cell_type": "code",
   "execution_count": 239,
   "metadata": {
    "hidden": true
   },
   "outputs": [],
   "source": [
    "model = TabularNetV2(num_cont, num_cat, level_arr, w).cuda()\n",
    "#model = TabularNetV2Cont(num_cont, w).cuda()\n",
    "path = \"{0}/models/model_{1}_acc_{2:.0f}.pth\".format(PATH, dataset, 100*best_r2) \n",
    "load_model(model, path)"
   ]
  },
  {
   "cell_type": "code",
   "execution_count": 240,
   "metadata": {
    "hidden": true
   },
   "outputs": [
    {
     "data": {
      "application/vnd.jupyter.widget-view+json": {
       "model_id": "7484b7973034423c834fb8b9a729edcc",
       "version_major": 2,
       "version_minor": 0
      },
      "text/plain": [
       "HBox(children=(FloatProgress(value=0.0, max=15.0), HTML(value='')))"
      ]
     },
     "metadata": {},
     "output_type": "display_data"
    },
    {
     "name": "stdout",
     "output_type": "stream",
     "text": [
      "\tTrain loss: 2.062 \t Valid loss: 1.723 \t Valid R2:  0.912\n",
      "/data2/yinterian/pmlb/models/model_215_2dplanes_acc_91.pth\n",
      "\tTrain loss: 2.180 \t Valid loss: 1.176 \t Valid R2:  0.940\n",
      "/data2/yinterian/pmlb/models/model_215_2dplanes_acc_94.pth\n",
      "\tTrain loss: 1.913 \t Valid loss: 1.779 \t Valid R2:  0.909\n",
      "\tTrain loss: 2.428 \t Valid loss: 1.614 \t Valid R2:  0.917\n",
      "\tTrain loss: 1.984 \t Valid loss: 2.138 \t Valid R2:  0.890\n",
      "\tTrain loss: 2.102 \t Valid loss: 1.368 \t Valid R2:  0.930\n",
      "\tTrain loss: 1.850 \t Valid loss: 1.387 \t Valid R2:  0.929\n",
      "\tTrain loss: 1.977 \t Valid loss: 1.337 \t Valid R2:  0.932\n",
      "\tTrain loss: 1.829 \t Valid loss: 1.485 \t Valid R2:  0.924\n",
      "\tTrain loss: 1.759 \t Valid loss: 1.670 \t Valid R2:  0.914\n",
      "\tTrain loss: 1.783 \t Valid loss: 1.611 \t Valid R2:  0.917\n",
      "\tTrain loss: 1.725 \t Valid loss: 1.458 \t Valid R2:  0.925\n",
      "\tTrain loss: 1.713 \t Valid loss: 1.350 \t Valid R2:  0.931\n",
      "\tTrain loss: 1.672 \t Valid loss: 1.300 \t Valid R2:  0.933\n",
      "\tTrain loss: 1.678 \t Valid loss: 1.286 \t Valid R2:  0.934\n",
      "Best valid r2: 0.940\n"
     ]
    },
    {
     "data": {
      "text/plain": [
       "0.9397820864297147"
      ]
     },
     "execution_count": 240,
     "metadata": {},
     "output_type": "execute_result"
    }
   ],
   "source": [
    "w = get_new_w(model, p=0.5)\n",
    "model.linear1.update_mask(w.cuda())\n",
    "optimizer = torch.optim.Adam(model.parameters(), lr=0.2, weight_decay=1e-5)\n",
    "train_model(model, train_dl, valid_dl, optimizer, epochs=15)"
   ]
  },
  {
   "cell_type": "code",
   "execution_count": 241,
   "metadata": {
    "hidden": true
   },
   "outputs": [
    {
     "data": {
      "application/vnd.jupyter.widget-view+json": {
       "model_id": "3094ac53ef4445bb90e0dbcf554d0456",
       "version_major": 2,
       "version_minor": 0
      },
      "text/plain": [
       "HBox(children=(FloatProgress(value=0.0, max=15.0), HTML(value='')))"
      ]
     },
     "metadata": {},
     "output_type": "display_data"
    },
    {
     "name": "stdout",
     "output_type": "stream",
     "text": [
      "\tTrain loss: 1.724 \t Valid loss: 1.409 \t Valid R2:  0.928\n",
      "/data2/yinterian/pmlb/models/model_215_2dplanes_acc_93.pth\n",
      "\tTrain loss: 1.792 \t Valid loss: 2.195 \t Valid R2:  0.888\n",
      "\tTrain loss: 1.758 \t Valid loss: 2.178 \t Valid R2:  0.888\n",
      "\tTrain loss: 1.826 \t Valid loss: 1.503 \t Valid R2:  0.923\n",
      "\tTrain loss: 1.750 \t Valid loss: 1.816 \t Valid R2:  0.907\n",
      "\tTrain loss: 1.775 \t Valid loss: 1.426 \t Valid R2:  0.927\n",
      "\tTrain loss: 1.680 \t Valid loss: 1.205 \t Valid R2:  0.938\n",
      "/data2/yinterian/pmlb/models/model_215_2dplanes_acc_94.pth\n",
      "\tTrain loss: 1.665 \t Valid loss: 1.344 \t Valid R2:  0.931\n",
      "\tTrain loss: 1.667 \t Valid loss: 1.481 \t Valid R2:  0.924\n",
      "\tTrain loss: 1.641 \t Valid loss: 1.434 \t Valid R2:  0.927\n",
      "\tTrain loss: 1.599 \t Valid loss: 1.317 \t Valid R2:  0.933\n",
      "\tTrain loss: 1.560 \t Valid loss: 1.300 \t Valid R2:  0.933\n",
      "\tTrain loss: 1.561 \t Valid loss: 1.358 \t Valid R2:  0.930\n",
      "\tTrain loss: 1.545 \t Valid loss: 1.439 \t Valid R2:  0.926\n",
      "\tTrain loss: 1.573 \t Valid loss: 1.516 \t Valid R2:  0.922\n",
      "Best valid r2: 0.938\n"
     ]
    },
    {
     "data": {
      "text/plain": [
       "0.9382783273771009"
      ]
     },
     "execution_count": 241,
     "metadata": {},
     "output_type": "execute_result"
    }
   ],
   "source": [
    "w = get_new_w(model, p=0.7)\n",
    "model.linear1.update_mask(w.cuda())\n",
    "optimizer = torch.optim.Adam(model.parameters(), lr=0.2, weight_decay=1e-5)\n",
    "train_model(model, train_dl, valid_dl, optimizer, epochs=15)"
   ]
  },
  {
   "cell_type": "code",
   "execution_count": 174,
   "metadata": {
    "hidden": true
   },
   "outputs": [],
   "source": [
    "mask = model.linear1.mask.cpu()"
   ]
  },
  {
   "cell_type": "code",
   "execution_count": 181,
   "metadata": {
    "hidden": true
   },
   "outputs": [],
   "source": [
    "rank = mask.sum(0)/mask.sum(0).max()"
   ]
  },
  {
   "cell_type": "code",
   "execution_count": 182,
   "metadata": {
    "hidden": true
   },
   "outputs": [
    {
     "data": {
      "text/plain": [
       "torch.return_types.sort(\n",
       "values=tensor([1.0000, 0.6661, 0.6608, 0.6396, 0.6219, 0.6042, 0.5389, 0.5247, 0.5088,\n",
       "        0.4982, 0.4682, 0.4629, 0.4594, 0.4523, 0.4470, 0.4435, 0.4117, 0.3463,\n",
       "        0.3163]),\n",
       "indices=tensor([ 0,  4,  2,  9,  7, 17,  1,  5,  8, 10,  6, 12, 14, 16, 18, 11, 13,  3,\n",
       "        15]))"
      ]
     },
     "execution_count": 182,
     "metadata": {},
     "output_type": "execute_result"
    }
   ],
   "source": [
    "torch.sort(rank, dim=0, descending=True)"
   ]
  },
  {
   "cell_type": "code",
   "execution_count": 186,
   "metadata": {
    "hidden": true
   },
   "outputs": [
    {
     "data": {
      "application/vnd.jupyter.widget-view+json": {
       "model_id": "e064ac9b89814db6b02b852f2a3b23db",
       "version_major": 2,
       "version_minor": 0
      },
      "text/plain": [
       "HBox(children=(FloatProgress(value=0.0, max=200.0), HTML(value='')))"
      ]
     },
     "metadata": {},
     "output_type": "display_data"
    },
    {
     "name": "stdout",
     "output_type": "stream",
     "text": [
      "\tTrain loss: 17.008 \t Valid loss: 13.658 \t Valid R2:  0.323\n",
      "/data2/yinterian/pmlb/models/model_1203_BNG_pwLinear_acc_32.pth\n",
      "\tTrain loss: 10.355 \t Valid loss: 12.687 \t Valid R2:  0.371\n",
      "/data2/yinterian/pmlb/models/model_1203_BNG_pwLinear_acc_37.pth\n",
      "\tTrain loss: 9.916 \t Valid loss: 12.731 \t Valid R2:  0.369\n",
      "\tTrain loss: 9.676 \t Valid loss: 12.923 \t Valid R2:  0.359\n",
      "\tTrain loss: 9.514 \t Valid loss: 13.232 \t Valid R2:  0.344\n",
      "\tTrain loss: 9.375 \t Valid loss: 13.256 \t Valid R2:  0.343\n",
      "\tTrain loss: 9.236 \t Valid loss: 12.770 \t Valid R2:  0.367\n",
      "\tTrain loss: 9.041 \t Valid loss: 12.094 \t Valid R2:  0.400\n",
      "/data2/yinterian/pmlb/models/model_1203_BNG_pwLinear_acc_40.pth\n",
      "\tTrain loss: 8.905 \t Valid loss: 11.609 \t Valid R2:  0.425\n",
      "/data2/yinterian/pmlb/models/model_1203_BNG_pwLinear_acc_42.pth\n",
      "\tTrain loss: 8.764 \t Valid loss: 11.175 \t Valid R2:  0.446\n",
      "/data2/yinterian/pmlb/models/model_1203_BNG_pwLinear_acc_45.pth\n",
      "\tTrain loss: 8.691 \t Valid loss: 10.597 \t Valid R2:  0.475\n",
      "/data2/yinterian/pmlb/models/model_1203_BNG_pwLinear_acc_47.pth\n",
      "\tTrain loss: 8.615 \t Valid loss: 10.068 \t Valid R2:  0.501\n",
      "/data2/yinterian/pmlb/models/model_1203_BNG_pwLinear_acc_50.pth\n",
      "\tTrain loss: 8.541 \t Valid loss: 9.678 \t Valid R2:  0.520\n",
      "/data2/yinterian/pmlb/models/model_1203_BNG_pwLinear_acc_52.pth\n",
      "\tTrain loss: 8.464 \t Valid loss: 9.286 \t Valid R2:  0.540\n",
      "/data2/yinterian/pmlb/models/model_1203_BNG_pwLinear_acc_54.pth\n",
      "\tTrain loss: 8.422 \t Valid loss: 8.996 \t Valid R2:  0.554\n",
      "/data2/yinterian/pmlb/models/model_1203_BNG_pwLinear_acc_55.pth\n",
      "\tTrain loss: 8.368 \t Valid loss: 8.812 \t Valid R2:  0.563\n",
      "/data2/yinterian/pmlb/models/model_1203_BNG_pwLinear_acc_56.pth\n",
      "\tTrain loss: 8.333 \t Valid loss: 8.630 \t Valid R2:  0.572\n",
      "/data2/yinterian/pmlb/models/model_1203_BNG_pwLinear_acc_57.pth\n",
      "\tTrain loss: 8.289 \t Valid loss: 8.558 \t Valid R2:  0.576\n",
      "/data2/yinterian/pmlb/models/model_1203_BNG_pwLinear_acc_58.pth\n",
      "\tTrain loss: 8.242 \t Valid loss: 8.625 \t Valid R2:  0.572\n",
      "\tTrain loss: 8.212 \t Valid loss: 8.676 \t Valid R2:  0.570\n",
      "\tTrain loss: 8.188 \t Valid loss: 8.621 \t Valid R2:  0.573\n",
      "\tTrain loss: 8.150 \t Valid loss: 8.617 \t Valid R2:  0.573\n",
      "\tTrain loss: 8.131 \t Valid loss: 8.481 \t Valid R2:  0.580\n",
      "/data2/yinterian/pmlb/models/model_1203_BNG_pwLinear_acc_58.pth\n",
      "\tTrain loss: 8.102 \t Valid loss: 8.594 \t Valid R2:  0.574\n",
      "\tTrain loss: 8.080 \t Valid loss: 8.545 \t Valid R2:  0.576\n",
      "\tTrain loss: 8.056 \t Valid loss: 8.567 \t Valid R2:  0.575\n",
      "\tTrain loss: 8.050 \t Valid loss: 8.508 \t Valid R2:  0.578\n",
      "\tTrain loss: 8.063 \t Valid loss: 8.434 \t Valid R2:  0.582\n",
      "/data2/yinterian/pmlb/models/model_1203_BNG_pwLinear_acc_58.pth\n",
      "\tTrain loss: 8.023 \t Valid loss: 8.429 \t Valid R2:  0.582\n",
      "/data2/yinterian/pmlb/models/model_1203_BNG_pwLinear_acc_58.pth\n",
      "\tTrain loss: 8.032 \t Valid loss: 8.319 \t Valid R2:  0.588\n",
      "/data2/yinterian/pmlb/models/model_1203_BNG_pwLinear_acc_59.pth\n",
      "\tTrain loss: 8.010 \t Valid loss: 8.471 \t Valid R2:  0.580\n",
      "\tTrain loss: 8.009 \t Valid loss: 8.329 \t Valid R2:  0.587\n",
      "\tTrain loss: 7.991 \t Valid loss: 8.176 \t Valid R2:  0.595\n",
      "/data2/yinterian/pmlb/models/model_1203_BNG_pwLinear_acc_59.pth\n",
      "\tTrain loss: 7.981 \t Valid loss: 8.339 \t Valid R2:  0.587\n",
      "\tTrain loss: 7.984 \t Valid loss: 8.349 \t Valid R2:  0.586\n",
      "\tTrain loss: 7.956 \t Valid loss: 8.319 \t Valid R2:  0.588\n",
      "\tTrain loss: 7.962 \t Valid loss: 8.355 \t Valid R2:  0.586\n",
      "\tTrain loss: 7.948 \t Valid loss: 8.315 \t Valid R2:  0.588\n",
      "\tTrain loss: 7.952 \t Valid loss: 8.225 \t Valid R2:  0.592\n",
      "\tTrain loss: 7.952 \t Valid loss: 8.316 \t Valid R2:  0.588\n",
      "\tTrain loss: 7.945 \t Valid loss: 8.369 \t Valid R2:  0.585\n",
      "\tTrain loss: 7.937 \t Valid loss: 8.292 \t Valid R2:  0.589\n",
      "\tTrain loss: 7.930 \t Valid loss: 8.309 \t Valid R2:  0.588\n",
      "\tTrain loss: 7.932 \t Valid loss: 8.272 \t Valid R2:  0.590\n",
      "\tTrain loss: 7.915 \t Valid loss: 8.252 \t Valid R2:  0.591\n",
      "\tTrain loss: 7.903 \t Valid loss: 8.488 \t Valid R2:  0.579\n",
      "\tTrain loss: 7.919 \t Valid loss: 8.419 \t Valid R2:  0.583\n",
      "\tTrain loss: 7.899 \t Valid loss: 8.396 \t Valid R2:  0.584\n",
      "\tTrain loss: 7.908 \t Valid loss: 8.436 \t Valid R2:  0.582\n",
      "\tTrain loss: 7.895 \t Valid loss: 8.281 \t Valid R2:  0.590\n",
      "\tTrain loss: 7.891 \t Valid loss: 8.288 \t Valid R2:  0.589\n",
      "\tTrain loss: 7.890 \t Valid loss: 8.306 \t Valid R2:  0.588\n",
      "\tTrain loss: 7.890 \t Valid loss: 8.247 \t Valid R2:  0.591\n",
      "\tTrain loss: 7.872 \t Valid loss: 8.325 \t Valid R2:  0.587\n",
      "\tTrain loss: 7.878 \t Valid loss: 8.351 \t Valid R2:  0.586\n",
      "\tTrain loss: 7.857 \t Valid loss: 8.270 \t Valid R2:  0.590\n",
      "\tTrain loss: 7.863 \t Valid loss: 8.315 \t Valid R2:  0.588\n",
      "\tTrain loss: 7.875 \t Valid loss: 8.423 \t Valid R2:  0.582\n",
      "\tTrain loss: 7.869 \t Valid loss: 8.217 \t Valid R2:  0.593\n",
      "\tTrain loss: 7.853 \t Valid loss: 8.432 \t Valid R2:  0.582\n",
      "\tTrain loss: 7.842 \t Valid loss: 8.266 \t Valid R2:  0.590\n",
      "\tTrain loss: 7.864 \t Valid loss: 8.400 \t Valid R2:  0.584\n",
      "\tTrain loss: 7.861 \t Valid loss: 8.209 \t Valid R2:  0.593\n",
      "\tTrain loss: 7.847 \t Valid loss: 8.198 \t Valid R2:  0.594\n",
      "\tTrain loss: 7.861 \t Valid loss: 8.275 \t Valid R2:  0.590\n",
      "\tTrain loss: 7.837 \t Valid loss: 8.263 \t Valid R2:  0.590\n",
      "\tTrain loss: 7.831 \t Valid loss: 8.236 \t Valid R2:  0.592\n",
      "\tTrain loss: 7.825 \t Valid loss: 8.347 \t Valid R2:  0.586\n",
      "\tTrain loss: 7.837 \t Valid loss: 8.264 \t Valid R2:  0.590\n",
      "\tTrain loss: 7.860 \t Valid loss: 8.330 \t Valid R2:  0.587\n",
      "\tTrain loss: 7.821 \t Valid loss: 8.330 \t Valid R2:  0.587\n",
      "\tTrain loss: 7.832 \t Valid loss: 8.361 \t Valid R2:  0.586\n",
      "\tTrain loss: 7.835 \t Valid loss: 8.328 \t Valid R2:  0.587\n",
      "\tTrain loss: 7.832 \t Valid loss: 8.358 \t Valid R2:  0.586\n",
      "\tTrain loss: 7.817 \t Valid loss: 8.359 \t Valid R2:  0.586\n",
      "\tTrain loss: 7.834 \t Valid loss: 8.307 \t Valid R2:  0.588\n",
      "\tTrain loss: 7.811 \t Valid loss: 8.337 \t Valid R2:  0.587\n",
      "\tTrain loss: 7.805 \t Valid loss: 8.322 \t Valid R2:  0.587\n",
      "\tTrain loss: 7.840 \t Valid loss: 8.356 \t Valid R2:  0.586\n",
      "\tTrain loss: 7.819 \t Valid loss: 8.348 \t Valid R2:  0.586\n",
      "\tTrain loss: 7.824 \t Valid loss: 8.320 \t Valid R2:  0.588\n",
      "\tTrain loss: 7.811 \t Valid loss: 8.393 \t Valid R2:  0.584\n",
      "\tTrain loss: 7.804 \t Valid loss: 8.337 \t Valid R2:  0.587\n",
      "\tTrain loss: 7.798 \t Valid loss: 8.329 \t Valid R2:  0.587\n",
      "\tTrain loss: 7.806 \t Valid loss: 8.370 \t Valid R2:  0.585\n",
      "\tTrain loss: 7.815 \t Valid loss: 8.320 \t Valid R2:  0.588\n",
      "\tTrain loss: 7.809 \t Valid loss: 8.339 \t Valid R2:  0.587\n",
      "\tTrain loss: 7.811 \t Valid loss: 8.372 \t Valid R2:  0.585\n",
      "\tTrain loss: 7.799 \t Valid loss: 8.321 \t Valid R2:  0.588\n",
      "\tTrain loss: 7.804 \t Valid loss: 8.352 \t Valid R2:  0.586\n",
      "\tTrain loss: 7.798 \t Valid loss: 8.402 \t Valid R2:  0.584\n",
      "\tTrain loss: 7.808 \t Valid loss: 8.413 \t Valid R2:  0.583\n",
      "\tTrain loss: 7.787 \t Valid loss: 8.438 \t Valid R2:  0.582\n",
      "\tTrain loss: 7.810 \t Valid loss: 8.431 \t Valid R2:  0.582\n",
      "\tTrain loss: 7.827 \t Valid loss: 8.376 \t Valid R2:  0.585\n",
      "\tTrain loss: 7.814 \t Valid loss: 8.338 \t Valid R2:  0.587\n",
      "\tTrain loss: 7.799 \t Valid loss: 8.354 \t Valid R2:  0.586\n",
      "\tTrain loss: 7.785 \t Valid loss: 8.368 \t Valid R2:  0.585\n",
      "\tTrain loss: 7.794 \t Valid loss: 8.370 \t Valid R2:  0.585\n",
      "\tTrain loss: 7.794 \t Valid loss: 8.364 \t Valid R2:  0.585\n",
      "Best valid r2: 0.595\n"
     ]
    }
   ],
   "source": [
    "#model = TabularNetV2Cont(num_cont, mask).cuda()\n",
    "model = TabularNetV2(num_cont, num_cat, level_arr, w).cuda()\n",
    "optimizer = torch.optim.Adam(model.parameters(), lr=0.5, weight_decay=1e-5)\n",
    "best_r2 = train_model(model, train_dl, valid_dl, optimizer, epochs=100)"
   ]
  },
  {
   "cell_type": "markdown",
   "metadata": {
    "heading_collapsed": true
   },
   "source": [
    "## Training baseline model"
   ]
  },
  {
   "cell_type": "code",
   "execution_count": 52,
   "metadata": {
    "hidden": true
   },
   "outputs": [],
   "source": [
    "batch_size = 100000\n",
    "\n",
    "num_cont = len(cont_ind)\n",
    "num_cat = len(cat_ind)\n",
    "\n",
    "train_dl = DataLoader(train_ds, batch_size=batch_size, shuffle=True)\n",
    "valid_dl = DataLoader(valid_ds, batch_size=batch_size)"
   ]
  },
  {
   "cell_type": "code",
   "execution_count": 53,
   "metadata": {
    "hidden": true
   },
   "outputs": [],
   "source": [
    "model = TabularNet(num_cont, num_cat, level_arr).cuda()"
   ]
  },
  {
   "cell_type": "code",
   "execution_count": 54,
   "metadata": {
    "hidden": true
   },
   "outputs": [
    {
     "data": {
      "application/vnd.jupyter.widget-view+json": {
       "model_id": "c494573c795b4f1a8e5e0e81deafd758",
       "version_major": 2,
       "version_minor": 0
      },
      "text/plain": [
       "HBox(children=(FloatProgress(value=0.0, max=200.0), HTML(value='')))"
      ]
     },
     "metadata": {},
     "output_type": "display_data"
    },
    {
     "name": "stdout",
     "output_type": "stream",
     "text": [
      "\tTrain loss: 21.470 \t Valid loss: 45.292 \t Valid R2:  -1.245\n",
      "\tTrain loss: 66.181 \t Valid loss: 21.515 \t Valid R2:  -0.067\n",
      "\tTrain loss: 19.850 \t Valid loss: 58.539 \t Valid R2:  -1.902\n",
      "\tTrain loss: 20.108 \t Valid loss: 30.373 \t Valid R2:  -0.506\n",
      "\tTrain loss: 12.879 \t Valid loss: 43.650 \t Valid R2:  -1.164\n",
      "\tTrain loss: 11.617 \t Valid loss: 48.204 \t Valid R2:  -1.390\n",
      "\tTrain loss: 12.677 \t Valid loss: 34.346 \t Valid R2:  -0.703\n",
      "\tTrain loss: 11.174 \t Valid loss: 22.603 \t Valid R2:  -0.120\n",
      "\tTrain loss: 10.258 \t Valid loss: 16.629 \t Valid R2:  0.176\n",
      "/data2/yinterian/pmlb/models/model_1203_BNG_pwLinear_acc_18.pth\n",
      "\tTrain loss: 10.683 \t Valid loss: 14.435 \t Valid R2:  0.284\n",
      "/data2/yinterian/pmlb/models/model_1203_BNG_pwLinear_acc_28.pth\n",
      "\tTrain loss: 10.182 \t Valid loss: 17.145 \t Valid R2:  0.150\n",
      "\tTrain loss: 9.726 \t Valid loss: 18.808 \t Valid R2:  0.068\n",
      "\tTrain loss: 9.776 \t Valid loss: 13.626 \t Valid R2:  0.325\n",
      "/data2/yinterian/pmlb/models/model_1203_BNG_pwLinear_acc_32.pth\n",
      "\tTrain loss: 9.471 \t Valid loss: 9.978 \t Valid R2:  0.505\n",
      "/data2/yinterian/pmlb/models/model_1203_BNG_pwLinear_acc_51.pth\n",
      "\tTrain loss: 9.356 \t Valid loss: 9.787 \t Valid R2:  0.515\n",
      "/data2/yinterian/pmlb/models/model_1203_BNG_pwLinear_acc_51.pth\n",
      "\tTrain loss: 9.264 \t Valid loss: 11.061 \t Valid R2:  0.452\n",
      "\tTrain loss: 9.129 \t Valid loss: 11.258 \t Valid R2:  0.442\n",
      "\tTrain loss: 9.119 \t Valid loss: 9.649 \t Valid R2:  0.522\n",
      "/data2/yinterian/pmlb/models/model_1203_BNG_pwLinear_acc_52.pth\n",
      "\tTrain loss: 8.908 \t Valid loss: 9.305 \t Valid R2:  0.539\n",
      "/data2/yinterian/pmlb/models/model_1203_BNG_pwLinear_acc_54.pth\n",
      "\tTrain loss: 8.913 \t Valid loss: 9.172 \t Valid R2:  0.545\n",
      "/data2/yinterian/pmlb/models/model_1203_BNG_pwLinear_acc_55.pth\n",
      "\tTrain loss: 8.812 \t Valid loss: 9.269 \t Valid R2:  0.541\n",
      "\tTrain loss: 8.765 \t Valid loss: 9.118 \t Valid R2:  0.548\n",
      "/data2/yinterian/pmlb/models/model_1203_BNG_pwLinear_acc_55.pth\n",
      "\tTrain loss: 8.692 \t Valid loss: 8.491 \t Valid R2:  0.579\n",
      "/data2/yinterian/pmlb/models/model_1203_BNG_pwLinear_acc_58.pth\n",
      "\tTrain loss: 8.657 \t Valid loss: 8.351 \t Valid R2:  0.586\n",
      "/data2/yinterian/pmlb/models/model_1203_BNG_pwLinear_acc_59.pth\n",
      "\tTrain loss: 8.606 \t Valid loss: 8.301 \t Valid R2:  0.589\n",
      "/data2/yinterian/pmlb/models/model_1203_BNG_pwLinear_acc_59.pth\n",
      "\tTrain loss: 8.578 \t Valid loss: 8.189 \t Valid R2:  0.594\n",
      "/data2/yinterian/pmlb/models/model_1203_BNG_pwLinear_acc_59.pth\n",
      "\tTrain loss: 8.556 \t Valid loss: 8.128 \t Valid R2:  0.597\n",
      "/data2/yinterian/pmlb/models/model_1203_BNG_pwLinear_acc_60.pth\n",
      "\tTrain loss: 8.510 \t Valid loss: 8.100 \t Valid R2:  0.598\n",
      "/data2/yinterian/pmlb/models/model_1203_BNG_pwLinear_acc_60.pth\n",
      "\tTrain loss: 8.512 \t Valid loss: 8.085 \t Valid R2:  0.599\n",
      "/data2/yinterian/pmlb/models/model_1203_BNG_pwLinear_acc_60.pth\n",
      "\tTrain loss: 8.471 \t Valid loss: 8.021 \t Valid R2:  0.602\n",
      "/data2/yinterian/pmlb/models/model_1203_BNG_pwLinear_acc_60.pth\n",
      "\tTrain loss: 8.431 \t Valid loss: 7.977 \t Valid R2:  0.605\n",
      "/data2/yinterian/pmlb/models/model_1203_BNG_pwLinear_acc_60.pth\n",
      "\tTrain loss: 8.442 \t Valid loss: 7.954 \t Valid R2:  0.606\n",
      "/data2/yinterian/pmlb/models/model_1203_BNG_pwLinear_acc_61.pth\n",
      "\tTrain loss: 8.401 \t Valid loss: 7.919 \t Valid R2:  0.607\n",
      "/data2/yinterian/pmlb/models/model_1203_BNG_pwLinear_acc_61.pth\n",
      "\tTrain loss: 8.382 \t Valid loss: 7.920 \t Valid R2:  0.607\n",
      "\tTrain loss: 8.363 \t Valid loss: 7.909 \t Valid R2:  0.608\n",
      "/data2/yinterian/pmlb/models/model_1203_BNG_pwLinear_acc_61.pth\n",
      "\tTrain loss: 8.331 \t Valid loss: 7.894 \t Valid R2:  0.609\n",
      "/data2/yinterian/pmlb/models/model_1203_BNG_pwLinear_acc_61.pth\n",
      "\tTrain loss: 8.300 \t Valid loss: 7.895 \t Valid R2:  0.609\n",
      "\tTrain loss: 8.290 \t Valid loss: 7.890 \t Valid R2:  0.609\n",
      "/data2/yinterian/pmlb/models/model_1203_BNG_pwLinear_acc_61.pth\n",
      "\tTrain loss: 8.294 \t Valid loss: 7.880 \t Valid R2:  0.609\n",
      "/data2/yinterian/pmlb/models/model_1203_BNG_pwLinear_acc_61.pth\n",
      "\tTrain loss: 8.295 \t Valid loss: 7.915 \t Valid R2:  0.608\n",
      "\tTrain loss: 8.262 \t Valid loss: 7.924 \t Valid R2:  0.607\n",
      "\tTrain loss: 8.261 \t Valid loss: 7.864 \t Valid R2:  0.610\n",
      "/data2/yinterian/pmlb/models/model_1203_BNG_pwLinear_acc_61.pth\n",
      "\tTrain loss: 8.228 \t Valid loss: 7.839 \t Valid R2:  0.611\n",
      "/data2/yinterian/pmlb/models/model_1203_BNG_pwLinear_acc_61.pth\n",
      "\tTrain loss: 8.237 \t Valid loss: 7.884 \t Valid R2:  0.609\n",
      "\tTrain loss: 8.194 \t Valid loss: 7.867 \t Valid R2:  0.610\n",
      "\tTrain loss: 8.163 \t Valid loss: 7.837 \t Valid R2:  0.612\n",
      "/data2/yinterian/pmlb/models/model_1203_BNG_pwLinear_acc_61.pth\n",
      "\tTrain loss: 8.176 \t Valid loss: 7.867 \t Valid R2:  0.610\n",
      "\tTrain loss: 8.138 \t Valid loss: 7.911 \t Valid R2:  0.608\n",
      "\tTrain loss: 8.149 \t Valid loss: 7.844 \t Valid R2:  0.611\n",
      "\tTrain loss: 8.137 \t Valid loss: 7.839 \t Valid R2:  0.611\n",
      "\tTrain loss: 8.107 \t Valid loss: 7.901 \t Valid R2:  0.608\n",
      "\tTrain loss: 8.107 \t Valid loss: 7.884 \t Valid R2:  0.609\n",
      "\tTrain loss: 8.123 \t Valid loss: 7.842 \t Valid R2:  0.611\n",
      "\tTrain loss: 8.090 \t Valid loss: 7.862 \t Valid R2:  0.610\n",
      "\tTrain loss: 8.100 \t Valid loss: 7.887 \t Valid R2:  0.609\n",
      "\tTrain loss: 8.084 \t Valid loss: 7.833 \t Valid R2:  0.612\n",
      "/data2/yinterian/pmlb/models/model_1203_BNG_pwLinear_acc_61.pth\n",
      "\tTrain loss: 8.057 \t Valid loss: 7.842 \t Valid R2:  0.611\n",
      "\tTrain loss: 8.063 \t Valid loss: 7.876 \t Valid R2:  0.610\n",
      "\tTrain loss: 8.059 \t Valid loss: 7.830 \t Valid R2:  0.612\n",
      "/data2/yinterian/pmlb/models/model_1203_BNG_pwLinear_acc_61.pth\n",
      "\tTrain loss: 8.057 \t Valid loss: 7.836 \t Valid R2:  0.612\n",
      "\tTrain loss: 8.038 \t Valid loss: 7.892 \t Valid R2:  0.609\n",
      "\tTrain loss: 8.060 \t Valid loss: 7.851 \t Valid R2:  0.611\n",
      "\tTrain loss: 8.019 \t Valid loss: 7.825 \t Valid R2:  0.612\n",
      "/data2/yinterian/pmlb/models/model_1203_BNG_pwLinear_acc_61.pth\n",
      "\tTrain loss: 8.040 \t Valid loss: 7.848 \t Valid R2:  0.611\n",
      "\tTrain loss: 8.017 \t Valid loss: 7.866 \t Valid R2:  0.610\n",
      "\tTrain loss: 8.004 \t Valid loss: 7.839 \t Valid R2:  0.611\n",
      "\tTrain loss: 8.017 \t Valid loss: 7.820 \t Valid R2:  0.612\n",
      "/data2/yinterian/pmlb/models/model_1203_BNG_pwLinear_acc_61.pth\n",
      "\tTrain loss: 7.997 \t Valid loss: 7.826 \t Valid R2:  0.612\n",
      "\tTrain loss: 7.997 \t Valid loss: 7.831 \t Valid R2:  0.612\n",
      "\tTrain loss: 8.001 \t Valid loss: 7.840 \t Valid R2:  0.611\n",
      "\tTrain loss: 7.988 \t Valid loss: 7.859 \t Valid R2:  0.610\n",
      "\tTrain loss: 7.989 \t Valid loss: 7.850 \t Valid R2:  0.611\n",
      "\tTrain loss: 7.972 \t Valid loss: 7.841 \t Valid R2:  0.611\n",
      "\tTrain loss: 7.970 \t Valid loss: 7.822 \t Valid R2:  0.612\n",
      "\tTrain loss: 7.974 \t Valid loss: 7.826 \t Valid R2:  0.612\n",
      "\tTrain loss: 7.969 \t Valid loss: 7.838 \t Valid R2:  0.611\n",
      "\tTrain loss: 7.979 \t Valid loss: 7.828 \t Valid R2:  0.612\n",
      "\tTrain loss: 7.975 \t Valid loss: 7.825 \t Valid R2:  0.612\n",
      "\tTrain loss: 7.949 \t Valid loss: 7.829 \t Valid R2:  0.612\n",
      "\tTrain loss: 7.950 \t Valid loss: 7.822 \t Valid R2:  0.612\n",
      "\tTrain loss: 7.961 \t Valid loss: 7.811 \t Valid R2:  0.613\n",
      "/data2/yinterian/pmlb/models/model_1203_BNG_pwLinear_acc_61.pth\n",
      "\tTrain loss: 7.943 \t Valid loss: 7.817 \t Valid R2:  0.612\n",
      "\tTrain loss: 7.972 \t Valid loss: 7.831 \t Valid R2:  0.612\n",
      "\tTrain loss: 7.958 \t Valid loss: 7.845 \t Valid R2:  0.611\n",
      "\tTrain loss: 7.920 \t Valid loss: 7.847 \t Valid R2:  0.611\n",
      "\tTrain loss: 7.942 \t Valid loss: 7.849 \t Valid R2:  0.611\n",
      "\tTrain loss: 7.943 \t Valid loss: 7.844 \t Valid R2:  0.611\n",
      "\tTrain loss: 7.935 \t Valid loss: 7.830 \t Valid R2:  0.612\n",
      "\tTrain loss: 7.942 \t Valid loss: 7.820 \t Valid R2:  0.612\n",
      "\tTrain loss: 7.947 \t Valid loss: 7.827 \t Valid R2:  0.612\n",
      "\tTrain loss: 7.962 \t Valid loss: 7.836 \t Valid R2:  0.612\n",
      "\tTrain loss: 7.952 \t Valid loss: 7.841 \t Valid R2:  0.611\n",
      "\tTrain loss: 7.948 \t Valid loss: 7.838 \t Valid R2:  0.611\n",
      "\tTrain loss: 7.919 \t Valid loss: 7.823 \t Valid R2:  0.612\n",
      "\tTrain loss: 7.929 \t Valid loss: 7.822 \t Valid R2:  0.612\n",
      "\tTrain loss: 7.930 \t Valid loss: 7.828 \t Valid R2:  0.612\n",
      "\tTrain loss: 7.931 \t Valid loss: 7.830 \t Valid R2:  0.612\n",
      "\tTrain loss: 7.927 \t Valid loss: 7.824 \t Valid R2:  0.612\n",
      "\tTrain loss: 7.912 \t Valid loss: 7.818 \t Valid R2:  0.612\n",
      "\tTrain loss: 7.927 \t Valid loss: 7.829 \t Valid R2:  0.612\n",
      "Best valid r2: 0.613\n"
     ]
    },
    {
     "data": {
      "text/plain": [
       "0.612785346890947"
      ]
     },
     "execution_count": 54,
     "metadata": {},
     "output_type": "execute_result"
    }
   ],
   "source": [
    "optimizer = torch.optim.Adam(model.parameters(), lr=0.5, weight_decay=1e-5)\n",
    "train_model(model, train_dl, valid_dl, optimizer, epochs=100)"
   ]
  },
  {
   "cell_type": "code",
   "execution_count": null,
   "metadata": {
    "hidden": true
   },
   "outputs": [],
   "source": []
  }
 ],
 "metadata": {
  "kernelspec": {
   "display_name": "Python 3",
   "language": "python",
   "name": "python3"
  },
  "language_info": {
   "codemirror_mode": {
    "name": "ipython",
    "version": 3
   },
   "file_extension": ".py",
   "mimetype": "text/x-python",
   "name": "python",
   "nbconvert_exporter": "python",
   "pygments_lexer": "ipython3",
   "version": "3.8.3"
  },
  "toc": {
   "base_numbering": 1,
   "nav_menu": {},
   "number_sections": true,
   "sideBar": true,
   "skip_h1_title": false,
   "title_cell": "Table of Contents",
   "title_sidebar": "Contents",
   "toc_cell": false,
   "toc_position": {},
   "toc_section_display": "block",
   "toc_window_display": false
  }
 },
 "nbformat": 4,
 "nbformat_minor": 2
}
